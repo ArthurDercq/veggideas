{
 "cells": [
  {
   "cell_type": "code",
   "execution_count": null,
   "metadata": {},
   "outputs": [],
   "source": [
    "\n",
    "def data_augmentation(images):\n",
    "    processed_images = []\n",
    "    for image in images:\n",
    "        resized_image = tf.image.resize(image, (224, 224))\n",
    "\n",
    "        \n",
    "        normalized_image = tf.keras.layers.Rescaling(scale=1./127.5, offset=-1)(resized_image)\n",
    "        \n",
    "        processed_images.append(normalized_image)"
   ]
  }
 ],
 "metadata": {
  "language_info": {
   "name": "python"
  },
  "orig_nbformat": 4
 },
 "nbformat": 4,
 "nbformat_minor": 2
}
