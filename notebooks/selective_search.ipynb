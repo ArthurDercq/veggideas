{
 "cells": [
  {
   "cell_type": "code",
   "execution_count": 1,
   "metadata": {},
   "outputs": [
    {
     "name": "stdout",
     "output_type": "stream",
     "text": [
      "Requirement already satisfied: selective-search in /Users/lieselvranckx/.pyenv/versions/3.10.6/envs/veggideas/lib/python3.10/site-packages (1.1.0)\n",
      "Requirement already satisfied: numpy in /Users/lieselvranckx/.pyenv/versions/3.10.6/envs/veggideas/lib/python3.10/site-packages (from selective-search) (1.24.3)\n",
      "Requirement already satisfied: scikit-image in /Users/lieselvranckx/.pyenv/versions/3.10.6/envs/veggideas/lib/python3.10/site-packages (from selective-search) (0.21.0)\n",
      "Requirement already satisfied: scipy in /Users/lieselvranckx/.pyenv/versions/3.10.6/envs/veggideas/lib/python3.10/site-packages (from selective-search) (1.10.1)\n",
      "Requirement already satisfied: joblib in /Users/lieselvranckx/.pyenv/versions/3.10.6/envs/veggideas/lib/python3.10/site-packages (from selective-search) (1.2.0)\n",
      "Requirement already satisfied: networkx>=2.8 in /Users/lieselvranckx/.pyenv/versions/3.10.6/envs/veggideas/lib/python3.10/site-packages (from scikit-image->selective-search) (3.1)\n",
      "Requirement already satisfied: pillow>=9.0.1 in /Users/lieselvranckx/.pyenv/versions/3.10.6/envs/veggideas/lib/python3.10/site-packages (from scikit-image->selective-search) (9.5.0)\n",
      "Requirement already satisfied: imageio>=2.27 in /Users/lieselvranckx/.pyenv/versions/3.10.6/envs/veggideas/lib/python3.10/site-packages (from scikit-image->selective-search) (2.31.0)\n",
      "Requirement already satisfied: tifffile>=2022.8.12 in /Users/lieselvranckx/.pyenv/versions/3.10.6/envs/veggideas/lib/python3.10/site-packages (from scikit-image->selective-search) (2023.4.12)\n",
      "Requirement already satisfied: PyWavelets>=1.1.1 in /Users/lieselvranckx/.pyenv/versions/3.10.6/envs/veggideas/lib/python3.10/site-packages (from scikit-image->selective-search) (1.4.1)\n",
      "Requirement already satisfied: packaging>=21 in /Users/lieselvranckx/.pyenv/versions/3.10.6/envs/veggideas/lib/python3.10/site-packages (from scikit-image->selective-search) (23.1)\n",
      "Requirement already satisfied: lazy_loader>=0.2 in /Users/lieselvranckx/.pyenv/versions/3.10.6/envs/veggideas/lib/python3.10/site-packages (from scikit-image->selective-search) (0.2)\n",
      "Note: you may need to restart the kernel to use updated packages.\n"
     ]
    }
   ],
   "source": [
    "pip install selective-search"
   ]
  },
  {
   "cell_type": "code",
   "execution_count": null,
   "metadata": {},
   "outputs": [],
   "source": [
    " pip install opencv-contrib-python"
   ]
  },
  {
   "cell_type": "code",
   "execution_count": 26,
   "metadata": {},
   "outputs": [
    {
     "ename": "ImportError",
     "evalue": "cannot import name 'ximgproc' from 'cv2' (/Users/lieselvranckx/.pyenv/versions/3.10.6/envs/veggideas/lib/python3.10/site-packages/cv2/__init__.py)",
     "output_type": "error",
     "traceback": [
      "\u001b[0;31m---------------------------------------------------------------------------\u001b[0m",
      "\u001b[0;31mImportError\u001b[0m                               Traceback (most recent call last)",
      "Cell \u001b[0;32mIn[26], line 3\u001b[0m\n\u001b[1;32m      1\u001b[0m \u001b[39mimport\u001b[39;00m \u001b[39mcv2\u001b[39;00m\n\u001b[1;32m      2\u001b[0m \u001b[39mimport\u001b[39;00m \u001b[39msys\u001b[39;00m\n\u001b[0;32m----> 3\u001b[0m \u001b[39mfrom\u001b[39;00m \u001b[39mcv2\u001b[39;00m \u001b[39mimport\u001b[39;00m ximgproc\n",
      "\u001b[0;31mImportError\u001b[0m: cannot import name 'ximgproc' from 'cv2' (/Users/lieselvranckx/.pyenv/versions/3.10.6/envs/veggideas/lib/python3.10/site-packages/cv2/__init__.py)"
     ]
    }
   ],
   "source": [
    "import cv2\n",
    "import sys\n",
    "from cv2 import ximgproc"
   ]
  },
  {
   "cell_type": "code",
   "execution_count": 25,
   "metadata": {},
   "outputs": [
    {
     "ename": "AttributeError",
     "evalue": "module 'cv2' has no attribute 'ximgproc'",
     "output_type": "error",
     "traceback": [
      "\u001b[0;31m---------------------------------------------------------------------------\u001b[0m",
      "\u001b[0;31mAttributeError\u001b[0m                            Traceback (most recent call last)",
      "Cell \u001b[0;32mIn[25], line 12\u001b[0m\n\u001b[1;32m      9\u001b[0m im \u001b[39m=\u001b[39m cv2\u001b[39m.\u001b[39mresize(image, (newWidth, newHeight))    \n\u001b[1;32m     11\u001b[0m \u001b[39m# create Selective Search Segmentation Object using default parameters\u001b[39;00m\n\u001b[0;32m---> 12\u001b[0m ss \u001b[39m=\u001b[39m cv2\u001b[39m.\u001b[39;49mximgproc\u001b[39m.\u001b[39msegmentation\u001b[39m.\u001b[39mcreateSelectiveSearchSegmentation()\n\u001b[1;32m     14\u001b[0m \u001b[39m# set input image on which we will run segmentation\u001b[39;00m\n\u001b[1;32m     15\u001b[0m ss\u001b[39m.\u001b[39msetBaseImage(im)\n",
      "\u001b[0;31mAttributeError\u001b[0m: module 'cv2' has no attribute 'ximgproc'"
     ]
    }
   ],
   "source": [
    "image_path = '/Users/lieselvranckx/code/ArthurDercq/veggideas/raw_data/test/Papaya/1225.jpg'\n",
    "\n",
    "# Load the image\n",
    "image = cv2.imread(image_path)\n",
    "\n",
    "# resize image\n",
    "newHeight = 200\n",
    "newWidth = int(image.shape[1]*200/image.shape[0])\n",
    "im = cv2.resize(image, (newWidth, newHeight))    \n",
    " \n",
    "# create Selective Search Segmentation Object using default parameters\n",
    "ss = cv2.ximgproc.segmentation.createSelectiveSearchSegmentation()\n",
    " \n",
    "# set input image on which we will run segmentation\n",
    "ss.setBaseImage(im)\n",
    " \n",
    "# Switch to fast but low recall Selective Search method\n",
    "if (sys.argv[2] == 'f'):\n",
    "    ss.switchToSelectiveSearchFast()\n",
    " \n",
    "# Switch to high recall but slow Selective Search method\n",
    "elif (sys.argv[2] == 'q'):\n",
    "    ss.switchToSelectiveSearchQuality()\n",
    "# if argument is neither f nor q print help message\n",
    "else:\n",
    "    print(__doc__)\n",
    "    sys.exit(1)\n",
    " \n",
    "# run selective search segmentation on input image\n",
    "rects = ss.process()\n",
    "print('Total Number of Region Proposals: {}'.format(len(rects)))\n",
    " \n",
    "# number of region proposals to show\n",
    "numShowRects = 100\n",
    "# increment to increase/decrease total number\n",
    "# of reason proposals to be shown\n",
    "increment = 50\n",
    "while True:\n",
    "        # create a copy of original image\n",
    "        imOut = im.copy()\n",
    " \n",
    "        # itereate over all the region proposals\n",
    "        for i, rect in enumerate(rects):\n",
    "            # draw rectangle for region proposal till numShowRects\n",
    "            if (i < numShowRects):\n",
    "                x, y, w, h = rect\n",
    "                cv2.rectangle(imOut, (x, y), (x+w, y+h), (0, 255, 0), 1, cv2.LINE_AA)\n",
    "            else:\n",
    "                break\n",
    " \n",
    "        # show output\n",
    "        cv2.imshow(\"Output\", imOut)\n",
    " \n",
    "        # record key press\n",
    "        k = cv2.waitKey(0) & 0xFF\n",
    " \n",
    "        # m is pressed\n",
    "        if k == 109:\n",
    "            # increase total number of rectangles to show by increment\n",
    "            numShowRects += increment\n",
    "        # l is pressed\n",
    "        elif k == 108 and numShowRects > increment:\n",
    "            # decrease total number of rectangles to show by increment\n",
    "            numShowRects -= increment\n",
    "        # q is pressed\n",
    "        elif k == 113:\n",
    "            break\n",
    "        \n",
    "# close image show window\n",
    "cv2.destroyAllWindows()"
   ]
  }
 ],
 "metadata": {
  "kernelspec": {
   "display_name": "veggideas",
   "language": "python",
   "name": "python3"
  },
  "language_info": {
   "codemirror_mode": {
    "name": "ipython",
    "version": 3
   },
   "file_extension": ".py",
   "mimetype": "text/x-python",
   "name": "python",
   "nbconvert_exporter": "python",
   "pygments_lexer": "ipython3",
   "version": "3.10.6"
  },
  "orig_nbformat": 4
 },
 "nbformat": 4,
 "nbformat_minor": 2
}
