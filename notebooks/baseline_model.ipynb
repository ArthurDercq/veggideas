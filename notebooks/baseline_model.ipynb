{
 "cells": [
  {
   "cell_type": "code",
   "execution_count": 1,
   "metadata": {},
   "outputs": [],
   "source": [
    "from veggideas.load_data import load_train_data\n",
    "from veggideas.load_data import load_val_data\n",
    "import tensorflow as tf\n",
    "from tensorflow.keras.models import Sequential\n",
    "from tensorflow.keras.layers import Conv2D, MaxPooling2D, Flatten, Dense"
   ]
  },
  {
   "cell_type": "code",
   "execution_count": 3,
   "metadata": {},
   "outputs": [],
   "source": [
    "def initialize_base_model():\n",
    "    model = Sequential()\n",
    "    model.add(Conv2D(32, (3, 3), activation='relu', input_shape=(224,224, 3)))\n",
    "    model.add(MaxPooling2D((4, 4)))\n",
    "    model.add(Flatten())\n",
    "    model.add(Dense(15, activation='softmax'))\n",
    "\n",
    "    model.compile(optimizer='adam',\n",
    "              loss='categorical_crossentropy',\n",
    "              metrics=['accuracy'])\n",
    "    return model\n",
    "\n",
    "model = initialize_base_model()"
   ]
  },
  {
   "cell_type": "code",
   "execution_count": 15,
   "metadata": {},
   "outputs": [
    {
     "name": "stdout",
     "output_type": "stream",
     "text": [
      "\n",
      "Load latest model from GCS...\n",
      "WARNING:tensorflow:Using a while_loop for converting RngReadAndSkip cause there is no registered converter for this op.\n",
      "WARNING:tensorflow:Using a while_loop for converting Bitcast cause there is no registered converter for this op.\n",
      "WARNING:tensorflow:Using a while_loop for converting Bitcast cause there is no registered converter for this op.\n",
      "WARNING:tensorflow:Using a while_loop for converting StatelessRandomUniformV2 cause there is no registered converter for this op.\n",
      "WARNING:tensorflow:Using a while_loop for converting ImageProjectiveTransformV3 cause there is no registered converter for this op.\n",
      "WARNING:tensorflow:Using a while_loop for converting RngReadAndSkip cause there is no registered converter for this op.\n",
      "WARNING:tensorflow:Using a while_loop for converting Bitcast cause there is no registered converter for this op.\n",
      "WARNING:tensorflow:Using a while_loop for converting Bitcast cause there is no registered converter for this op.\n",
      "WARNING:tensorflow:Using a while_loop for converting StatelessRandomUniformV2 cause there is no registered converter for this op.\n",
      "WARNING:tensorflow:Using a while_loop for converting ImageProjectiveTransformV3 cause there is no registered converter for this op.\n",
      "✅ Latest model downloaded from cloud storage\n"
     ]
    }
   ],
   "source": [
    "from veggideas.registry import load_model\n",
    "\n",
    "model = load_model()"
   ]
  },
  {
   "cell_type": "code",
   "execution_count": 22,
   "metadata": {},
   "outputs": [
    {
     "name": "stdout",
     "output_type": "stream",
     "text": [
      "New image preprocessed correclty ✅\n"
     ]
    }
   ],
   "source": [
    "#trying out a prediction on a new image\n",
    "import os\n",
    "import cv2\n",
    "import numpy as np\n",
    "import matplotlib.pyplot as plt\n",
    "\n",
    "\n",
    "def preprocess_new_image():\n",
    "# Demande à l'utilisateur de sélectionner une image depuis l'ordinateur\n",
    "    image_path = \"/Users/arthurdercq/Desktop/brocolis.jpeg\"\n",
    "\n",
    "    # Charge l'image à l'aide de OpenCV\n",
    "    image = cv2.imread(image_path)\n",
    "    resized_image = cv2.resize(image, (224, 224))\n",
    "    resized_image = np.expand_dims(resized_image, axis=0)\n",
    "\n",
    "    print(\"New image preprocessed correclty ✅\")\n",
    "    \n",
    "    return resized_image\n",
    "\n",
    "new_image = preprocess_new_image()\n",
    "\n",
    "\n"
   ]
  },
  {
   "cell_type": "code",
   "execution_count": 23,
   "metadata": {},
   "outputs": [
    {
     "name": "stdout",
     "output_type": "stream",
     "text": [
      "1/1 [==============================] - 0s 41ms/step\n"
     ]
    }
   ],
   "source": [
    "prediction = model.predict(new_image)"
   ]
  },
  {
   "cell_type": "code",
   "execution_count": 24,
   "metadata": {},
   "outputs": [
    {
     "data": {
      "text/plain": [
       "array([[5.4520136e-04, 9.9822623e-01, 6.8093890e-08, 1.4958322e-05,\n",
       "        9.5484249e-04, 1.1133636e-04, 4.0899984e-05, 5.0677598e-05,\n",
       "        2.7016172e-06, 4.4884595e-07, 3.4639097e-11, 2.7633200e-07,\n",
       "        9.9136505e-06, 4.5761981e-06, 3.7881815e-05]], dtype=float32)"
      ]
     },
     "execution_count": 24,
     "metadata": {},
     "output_type": "execute_result"
    }
   ],
   "source": [
    "prediction"
   ]
  },
  {
   "cell_type": "code",
   "execution_count": 25,
   "metadata": {},
   "outputs": [
    {
     "name": "stdout",
     "output_type": "stream",
     "text": [
      "Bitter_Gourd\n"
     ]
    }
   ],
   "source": [
    "vegg_list = ['Bean', 'Bitter_Gourd', 'Bottle_Gourd', 'Brinjal', 'Broccoli',\n",
    "             'Cabbage', 'Capsicum', 'Carrot', 'Cauliflower', 'Cucumber',\n",
    "             'Papaya', 'Potato', 'Pumpkin', 'Radish', 'Tomato']\n",
    "\n",
    "pred_class = np.argmax(prediction, axis=-1)[0]\n",
    "\n",
    "final_prediction = vegg_list[pred_class]\n",
    "\n",
    "print(final_prediction)"
   ]
  },
  {
   "cell_type": "code",
   "execution_count": 26,
   "metadata": {},
   "outputs": [
    {
     "name": "stdout",
     "output_type": "stream",
     "text": [
      "Found 3000 files belonging to 15 classes.\n",
      "Loading test data\n",
      "Testing data successfully loaded ✅\n",
      "Evaluating model...\n"
     ]
    },
    {
     "name": "stderr",
     "output_type": "stream",
     "text": [
      "2023-06-12 10:22:15.867025: I tensorflow/core/grappler/optimizers/custom_graph_optimizer_registry.cc:114] Plugin optimizer for device_type GPU is enabled.\n"
     ]
    },
    {
     "name": "stdout",
     "output_type": "stream",
     "text": [
      "✅ Model evaluated, ACCURACY: 0.97, LOSS: 0.1264410763978958\n"
     ]
    }
   ],
   "source": [
    "from veggideas.transfer import evaluate_model\n",
    "\n",
    "evaluate_model(model)"
   ]
  },
  {
   "cell_type": "code",
   "execution_count": null,
   "metadata": {},
   "outputs": [],
   "source": []
  },
  {
   "cell_type": "code",
   "execution_count": null,
   "metadata": {},
   "outputs": [],
   "source": []
  }
 ],
 "metadata": {
  "kernelspec": {
   "display_name": "veggideas",
   "language": "python",
   "name": "python3"
  },
  "language_info": {
   "codemirror_mode": {
    "name": "ipython",
    "version": 3
   },
   "file_extension": ".py",
   "mimetype": "text/x-python",
   "name": "python",
   "nbconvert_exporter": "python",
   "pygments_lexer": "ipython3",
   "version": "3.10.6"
  },
  "orig_nbformat": 4
 },
 "nbformat": 4,
 "nbformat_minor": 2
}
