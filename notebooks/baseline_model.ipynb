{
 "cells": [
  {
   "cell_type": "code",
   "execution_count": 14,
   "metadata": {},
   "outputs": [
    {
     "name": "stdout",
     "output_type": "stream",
     "text": [
      "Obtaining file:///Users/arthurdercq/code/ArthurDercq/veggideas\n",
      "  Preparing metadata (setup.py) ... \u001b[?25ldone\n",
      "\u001b[?25hRequirement already satisfied: numpy in /Users/arthurdercq/.pyenv/versions/3.10.6/envs/veggideas/lib/python3.10/site-packages (from veggideas==0.0.1) (1.24.3)\n",
      "Requirement already satisfied: pandas in /Users/arthurdercq/.pyenv/versions/3.10.6/envs/veggideas/lib/python3.10/site-packages (from veggideas==0.0.1) (2.0.2)\n",
      "Requirement already satisfied: google-cloud-storage in /Users/arthurdercq/.pyenv/versions/3.10.6/envs/veggideas/lib/python3.10/site-packages (from veggideas==0.0.1) (2.9.0)\n",
      "Requirement already satisfied: python-dotenv in /Users/arthurdercq/.pyenv/versions/3.10.6/envs/veggideas/lib/python3.10/site-packages (from veggideas==0.0.1) (1.0.0)\n",
      "Requirement already satisfied: fastapi in /Users/arthurdercq/.pyenv/versions/3.10.6/envs/veggideas/lib/python3.10/site-packages (from veggideas==0.0.1) (0.96.0)\n",
      "Requirement already satisfied: uvicorn in /Users/arthurdercq/.pyenv/versions/3.10.6/envs/veggideas/lib/python3.10/site-packages (from veggideas==0.0.1) (0.22.0)\n",
      "Requirement already satisfied: opencv-python in /Users/arthurdercq/.pyenv/versions/3.10.6/envs/veggideas/lib/python3.10/site-packages (from veggideas==0.0.1) (4.7.0.72)\n",
      "Requirement already satisfied: python-multipart in /Users/arthurdercq/.pyenv/versions/3.10.6/envs/veggideas/lib/python3.10/site-packages (from veggideas==0.0.1) (0.0.6)\n",
      "Requirement already satisfied: colorama in /Users/arthurdercq/.pyenv/versions/3.10.6/envs/veggideas/lib/python3.10/site-packages (from veggideas==0.0.1) (0.4.6)\n",
      "Requirement already satisfied: pip in /Users/arthurdercq/.pyenv/versions/3.10.6/envs/veggideas/lib/python3.10/site-packages (from veggideas==0.0.1) (23.1.2)\n",
      "Requirement already satisfied: setuptools in /Users/arthurdercq/.pyenv/versions/3.10.6/envs/veggideas/lib/python3.10/site-packages (from veggideas==0.0.1) (63.2.0)\n",
      "Requirement already satisfied: twine in /Users/arthurdercq/.pyenv/versions/3.10.6/envs/veggideas/lib/python3.10/site-packages (from veggideas==0.0.1) (4.0.2)\n",
      "Requirement already satisfied: wheel in /Users/arthurdercq/.pyenv/versions/3.10.6/envs/veggideas/lib/python3.10/site-packages (from veggideas==0.0.1) (0.40.0)\n",
      "Requirement already satisfied: ipdb in /Users/arthurdercq/.pyenv/versions/3.10.6/envs/veggideas/lib/python3.10/site-packages (from veggideas==0.0.1) (0.13.13)\n",
      "Requirement already satisfied: ipykernel in /Users/arthurdercq/.pyenv/versions/3.10.6/envs/veggideas/lib/python3.10/site-packages (from veggideas==0.0.1) (6.23.1)\n",
      "Requirement already satisfied: matplotlib in /Users/arthurdercq/.pyenv/versions/3.10.6/envs/veggideas/lib/python3.10/site-packages (from veggideas==0.0.1) (3.7.1)\n",
      "Requirement already satisfied: seaborn in /Users/arthurdercq/.pyenv/versions/3.10.6/envs/veggideas/lib/python3.10/site-packages (from veggideas==0.0.1) (0.12.2)\n",
      "Requirement already satisfied: tensorflow-macos==2.10.0 in /Users/arthurdercq/.pyenv/versions/3.10.6/envs/veggideas/lib/python3.10/site-packages (from veggideas==0.0.1) (2.10.0)\n",
      "Requirement already satisfied: absl-py>=1.0.0 in /Users/arthurdercq/.pyenv/versions/3.10.6/envs/veggideas/lib/python3.10/site-packages (from tensorflow-macos==2.10.0->veggideas==0.0.1) (1.4.0)\n",
      "Requirement already satisfied: astunparse>=1.6.0 in /Users/arthurdercq/.pyenv/versions/3.10.6/envs/veggideas/lib/python3.10/site-packages (from tensorflow-macos==2.10.0->veggideas==0.0.1) (1.6.3)\n",
      "Requirement already satisfied: flatbuffers>=2.0 in /Users/arthurdercq/.pyenv/versions/3.10.6/envs/veggideas/lib/python3.10/site-packages (from tensorflow-macos==2.10.0->veggideas==0.0.1) (23.5.26)\n",
      "Requirement already satisfied: gast<=0.4.0,>=0.2.1 in /Users/arthurdercq/.pyenv/versions/3.10.6/envs/veggideas/lib/python3.10/site-packages (from tensorflow-macos==2.10.0->veggideas==0.0.1) (0.4.0)\n",
      "Requirement already satisfied: google-pasta>=0.1.1 in /Users/arthurdercq/.pyenv/versions/3.10.6/envs/veggideas/lib/python3.10/site-packages (from tensorflow-macos==2.10.0->veggideas==0.0.1) (0.2.0)\n",
      "Requirement already satisfied: h5py>=2.9.0 in /Users/arthurdercq/.pyenv/versions/3.10.6/envs/veggideas/lib/python3.10/site-packages (from tensorflow-macos==2.10.0->veggideas==0.0.1) (3.8.0)\n",
      "Requirement already satisfied: keras-preprocessing>=1.1.1 in /Users/arthurdercq/.pyenv/versions/3.10.6/envs/veggideas/lib/python3.10/site-packages (from tensorflow-macos==2.10.0->veggideas==0.0.1) (1.1.2)\n",
      "Requirement already satisfied: libclang>=13.0.0 in /Users/arthurdercq/.pyenv/versions/3.10.6/envs/veggideas/lib/python3.10/site-packages (from tensorflow-macos==2.10.0->veggideas==0.0.1) (16.0.0)\n",
      "Requirement already satisfied: opt-einsum>=2.3.2 in /Users/arthurdercq/.pyenv/versions/3.10.6/envs/veggideas/lib/python3.10/site-packages (from tensorflow-macos==2.10.0->veggideas==0.0.1) (3.3.0)\n",
      "Requirement already satisfied: packaging in /Users/arthurdercq/.pyenv/versions/3.10.6/envs/veggideas/lib/python3.10/site-packages (from tensorflow-macos==2.10.0->veggideas==0.0.1) (23.1)\n",
      "Requirement already satisfied: protobuf<3.20,>=3.9.2 in /Users/arthurdercq/.pyenv/versions/3.10.6/envs/veggideas/lib/python3.10/site-packages (from tensorflow-macos==2.10.0->veggideas==0.0.1) (3.19.6)\n",
      "Requirement already satisfied: six>=1.12.0 in /Users/arthurdercq/.pyenv/versions/3.10.6/envs/veggideas/lib/python3.10/site-packages (from tensorflow-macos==2.10.0->veggideas==0.0.1) (1.16.0)\n",
      "Requirement already satisfied: termcolor>=1.1.0 in /Users/arthurdercq/.pyenv/versions/3.10.6/envs/veggideas/lib/python3.10/site-packages (from tensorflow-macos==2.10.0->veggideas==0.0.1) (2.3.0)\n",
      "Requirement already satisfied: typing-extensions>=3.6.6 in /Users/arthurdercq/.pyenv/versions/3.10.6/envs/veggideas/lib/python3.10/site-packages (from tensorflow-macos==2.10.0->veggideas==0.0.1) (4.6.3)\n",
      "Requirement already satisfied: wrapt>=1.11.0 in /Users/arthurdercq/.pyenv/versions/3.10.6/envs/veggideas/lib/python3.10/site-packages (from tensorflow-macos==2.10.0->veggideas==0.0.1) (1.15.0)\n",
      "Requirement already satisfied: grpcio<2.0,>=1.24.3 in /Users/arthurdercq/.pyenv/versions/3.10.6/envs/veggideas/lib/python3.10/site-packages (from tensorflow-macos==2.10.0->veggideas==0.0.1) (1.54.2)\n",
      "Requirement already satisfied: tensorboard<2.11,>=2.10 in /Users/arthurdercq/.pyenv/versions/3.10.6/envs/veggideas/lib/python3.10/site-packages (from tensorflow-macos==2.10.0->veggideas==0.0.1) (2.10.1)\n",
      "Requirement already satisfied: tensorflow-estimator<2.11,>=2.10.0 in /Users/arthurdercq/.pyenv/versions/3.10.6/envs/veggideas/lib/python3.10/site-packages (from tensorflow-macos==2.10.0->veggideas==0.0.1) (2.10.0)\n",
      "Requirement already satisfied: keras<2.11,>=2.10.0 in /Users/arthurdercq/.pyenv/versions/3.10.6/envs/veggideas/lib/python3.10/site-packages (from tensorflow-macos==2.10.0->veggideas==0.0.1) (2.10.0)\n",
      "Requirement already satisfied: pydantic!=1.7,!=1.7.1,!=1.7.2,!=1.7.3,!=1.8,!=1.8.1,<2.0.0,>=1.6.2 in /Users/arthurdercq/.pyenv/versions/3.10.6/envs/veggideas/lib/python3.10/site-packages (from fastapi->veggideas==0.0.1) (1.10.9)\n",
      "Requirement already satisfied: starlette<0.28.0,>=0.27.0 in /Users/arthurdercq/.pyenv/versions/3.10.6/envs/veggideas/lib/python3.10/site-packages (from fastapi->veggideas==0.0.1) (0.27.0)\n",
      "Requirement already satisfied: google-auth<3.0dev,>=1.25.0 in /Users/arthurdercq/.pyenv/versions/3.10.6/envs/veggideas/lib/python3.10/site-packages (from google-cloud-storage->veggideas==0.0.1) (2.19.1)\n",
      "Requirement already satisfied: google-api-core!=2.0.*,!=2.1.*,!=2.2.*,!=2.3.0,<3.0.0dev,>=1.31.5 in /Users/arthurdercq/.pyenv/versions/3.10.6/envs/veggideas/lib/python3.10/site-packages (from google-cloud-storage->veggideas==0.0.1) (2.11.0)\n",
      "Requirement already satisfied: google-cloud-core<3.0dev,>=2.3.0 in /Users/arthurdercq/.pyenv/versions/3.10.6/envs/veggideas/lib/python3.10/site-packages (from google-cloud-storage->veggideas==0.0.1) (2.3.2)\n",
      "Requirement already satisfied: google-resumable-media>=2.3.2 in /Users/arthurdercq/.pyenv/versions/3.10.6/envs/veggideas/lib/python3.10/site-packages (from google-cloud-storage->veggideas==0.0.1) (2.5.0)\n",
      "Requirement already satisfied: requests<3.0.0dev,>=2.18.0 in /Users/arthurdercq/.pyenv/versions/3.10.6/envs/veggideas/lib/python3.10/site-packages (from google-cloud-storage->veggideas==0.0.1) (2.31.0)\n",
      "Requirement already satisfied: ipython>=7.31.1 in /Users/arthurdercq/.pyenv/versions/3.10.6/envs/veggideas/lib/python3.10/site-packages (from ipdb->veggideas==0.0.1) (8.14.0)\n",
      "Requirement already satisfied: tomli in /Users/arthurdercq/.pyenv/versions/3.10.6/envs/veggideas/lib/python3.10/site-packages (from ipdb->veggideas==0.0.1) (2.0.1)\n",
      "Requirement already satisfied: decorator in /Users/arthurdercq/.pyenv/versions/3.10.6/envs/veggideas/lib/python3.10/site-packages (from ipdb->veggideas==0.0.1) (5.1.1)\n",
      "Requirement already satisfied: appnope in /Users/arthurdercq/.pyenv/versions/3.10.6/envs/veggideas/lib/python3.10/site-packages (from ipykernel->veggideas==0.0.1) (0.1.3)\n",
      "Requirement already satisfied: comm>=0.1.1 in /Users/arthurdercq/.pyenv/versions/3.10.6/envs/veggideas/lib/python3.10/site-packages (from ipykernel->veggideas==0.0.1) (0.1.3)\n",
      "Requirement already satisfied: debugpy>=1.6.5 in /Users/arthurdercq/.pyenv/versions/3.10.6/envs/veggideas/lib/python3.10/site-packages (from ipykernel->veggideas==0.0.1) (1.6.7)\n",
      "Requirement already satisfied: jupyter-client>=6.1.12 in /Users/arthurdercq/.pyenv/versions/3.10.6/envs/veggideas/lib/python3.10/site-packages (from ipykernel->veggideas==0.0.1) (8.2.0)\n",
      "Requirement already satisfied: jupyter-core!=5.0.*,>=4.12 in /Users/arthurdercq/.pyenv/versions/3.10.6/envs/veggideas/lib/python3.10/site-packages (from ipykernel->veggideas==0.0.1) (5.3.0)\n",
      "Requirement already satisfied: matplotlib-inline>=0.1 in /Users/arthurdercq/.pyenv/versions/3.10.6/envs/veggideas/lib/python3.10/site-packages (from ipykernel->veggideas==0.0.1) (0.1.6)\n",
      "Requirement already satisfied: nest-asyncio in /Users/arthurdercq/.pyenv/versions/3.10.6/envs/veggideas/lib/python3.10/site-packages (from ipykernel->veggideas==0.0.1) (1.5.6)\n",
      "Requirement already satisfied: psutil in /Users/arthurdercq/.pyenv/versions/3.10.6/envs/veggideas/lib/python3.10/site-packages (from ipykernel->veggideas==0.0.1) (5.9.5)\n",
      "Requirement already satisfied: pyzmq>=20 in /Users/arthurdercq/.pyenv/versions/3.10.6/envs/veggideas/lib/python3.10/site-packages (from ipykernel->veggideas==0.0.1) (25.1.0)\n",
      "Requirement already satisfied: tornado>=6.1 in /Users/arthurdercq/.pyenv/versions/3.10.6/envs/veggideas/lib/python3.10/site-packages (from ipykernel->veggideas==0.0.1) (6.3.2)\n",
      "Requirement already satisfied: traitlets>=5.4.0 in /Users/arthurdercq/.pyenv/versions/3.10.6/envs/veggideas/lib/python3.10/site-packages (from ipykernel->veggideas==0.0.1) (5.9.0)\n",
      "Requirement already satisfied: contourpy>=1.0.1 in /Users/arthurdercq/.pyenv/versions/3.10.6/envs/veggideas/lib/python3.10/site-packages (from matplotlib->veggideas==0.0.1) (1.0.7)\n",
      "Requirement already satisfied: cycler>=0.10 in /Users/arthurdercq/.pyenv/versions/3.10.6/envs/veggideas/lib/python3.10/site-packages (from matplotlib->veggideas==0.0.1) (0.11.0)\n",
      "Requirement already satisfied: fonttools>=4.22.0 in /Users/arthurdercq/.pyenv/versions/3.10.6/envs/veggideas/lib/python3.10/site-packages (from matplotlib->veggideas==0.0.1) (4.39.4)\n",
      "Requirement already satisfied: kiwisolver>=1.0.1 in /Users/arthurdercq/.pyenv/versions/3.10.6/envs/veggideas/lib/python3.10/site-packages (from matplotlib->veggideas==0.0.1) (1.4.4)\n",
      "Requirement already satisfied: pillow>=6.2.0 in /Users/arthurdercq/.pyenv/versions/3.10.6/envs/veggideas/lib/python3.10/site-packages (from matplotlib->veggideas==0.0.1) (9.5.0)\n",
      "Requirement already satisfied: pyparsing>=2.3.1 in /Users/arthurdercq/.pyenv/versions/3.10.6/envs/veggideas/lib/python3.10/site-packages (from matplotlib->veggideas==0.0.1) (3.0.9)\n",
      "Requirement already satisfied: python-dateutil>=2.7 in /Users/arthurdercq/.pyenv/versions/3.10.6/envs/veggideas/lib/python3.10/site-packages (from matplotlib->veggideas==0.0.1) (2.8.2)\n",
      "Requirement already satisfied: pytz>=2020.1 in /Users/arthurdercq/.pyenv/versions/3.10.6/envs/veggideas/lib/python3.10/site-packages (from pandas->veggideas==0.0.1) (2023.3)\n",
      "Requirement already satisfied: tzdata>=2022.1 in /Users/arthurdercq/.pyenv/versions/3.10.6/envs/veggideas/lib/python3.10/site-packages (from pandas->veggideas==0.0.1) (2023.3)\n",
      "Requirement already satisfied: pkginfo>=1.8.1 in /Users/arthurdercq/.pyenv/versions/3.10.6/envs/veggideas/lib/python3.10/site-packages (from twine->veggideas==0.0.1) (1.9.6)\n",
      "Requirement already satisfied: readme-renderer>=35.0 in /Users/arthurdercq/.pyenv/versions/3.10.6/envs/veggideas/lib/python3.10/site-packages (from twine->veggideas==0.0.1) (37.3)\n",
      "Requirement already satisfied: requests-toolbelt!=0.9.0,>=0.8.0 in /Users/arthurdercq/.pyenv/versions/3.10.6/envs/veggideas/lib/python3.10/site-packages (from twine->veggideas==0.0.1) (1.0.0)\n",
      "Requirement already satisfied: urllib3>=1.26.0 in /Users/arthurdercq/.pyenv/versions/3.10.6/envs/veggideas/lib/python3.10/site-packages (from twine->veggideas==0.0.1) (1.26.16)\n",
      "Requirement already satisfied: importlib-metadata>=3.6 in /Users/arthurdercq/.pyenv/versions/3.10.6/envs/veggideas/lib/python3.10/site-packages (from twine->veggideas==0.0.1) (6.6.0)\n",
      "Requirement already satisfied: keyring>=15.1 in /Users/arthurdercq/.pyenv/versions/3.10.6/envs/veggideas/lib/python3.10/site-packages (from twine->veggideas==0.0.1) (23.13.1)\n",
      "Requirement already satisfied: rfc3986>=1.4.0 in /Users/arthurdercq/.pyenv/versions/3.10.6/envs/veggideas/lib/python3.10/site-packages (from twine->veggideas==0.0.1) (2.0.0)\n",
      "Requirement already satisfied: rich>=12.0.0 in /Users/arthurdercq/.pyenv/versions/3.10.6/envs/veggideas/lib/python3.10/site-packages (from twine->veggideas==0.0.1) (13.4.1)\n",
      "Requirement already satisfied: click>=7.0 in /Users/arthurdercq/.pyenv/versions/3.10.6/envs/veggideas/lib/python3.10/site-packages (from uvicorn->veggideas==0.0.1) (8.1.3)\n",
      "Requirement already satisfied: h11>=0.8 in /Users/arthurdercq/.pyenv/versions/3.10.6/envs/veggideas/lib/python3.10/site-packages (from uvicorn->veggideas==0.0.1) (0.14.0)\n",
      "Requirement already satisfied: googleapis-common-protos<2.0dev,>=1.56.2 in /Users/arthurdercq/.pyenv/versions/3.10.6/envs/veggideas/lib/python3.10/site-packages (from google-api-core!=2.0.*,!=2.1.*,!=2.2.*,!=2.3.0,<3.0.0dev,>=1.31.5->google-cloud-storage->veggideas==0.0.1) (1.59.0)\n",
      "Requirement already satisfied: cachetools<6.0,>=2.0.0 in /Users/arthurdercq/.pyenv/versions/3.10.6/envs/veggideas/lib/python3.10/site-packages (from google-auth<3.0dev,>=1.25.0->google-cloud-storage->veggideas==0.0.1) (5.3.1)\n",
      "Requirement already satisfied: pyasn1-modules>=0.2.1 in /Users/arthurdercq/.pyenv/versions/3.10.6/envs/veggideas/lib/python3.10/site-packages (from google-auth<3.0dev,>=1.25.0->google-cloud-storage->veggideas==0.0.1) (0.3.0)\n",
      "Requirement already satisfied: rsa<5,>=3.1.4 in /Users/arthurdercq/.pyenv/versions/3.10.6/envs/veggideas/lib/python3.10/site-packages (from google-auth<3.0dev,>=1.25.0->google-cloud-storage->veggideas==0.0.1) (4.9)\n",
      "Requirement already satisfied: google-crc32c<2.0dev,>=1.0 in /Users/arthurdercq/.pyenv/versions/3.10.6/envs/veggideas/lib/python3.10/site-packages (from google-resumable-media>=2.3.2->google-cloud-storage->veggideas==0.0.1) (1.5.0)\n",
      "Requirement already satisfied: zipp>=0.5 in /Users/arthurdercq/.pyenv/versions/3.10.6/envs/veggideas/lib/python3.10/site-packages (from importlib-metadata>=3.6->twine->veggideas==0.0.1) (3.15.0)\n",
      "Requirement already satisfied: backcall in /Users/arthurdercq/.pyenv/versions/3.10.6/envs/veggideas/lib/python3.10/site-packages (from ipython>=7.31.1->ipdb->veggideas==0.0.1) (0.2.0)\n",
      "Requirement already satisfied: jedi>=0.16 in /Users/arthurdercq/.pyenv/versions/3.10.6/envs/veggideas/lib/python3.10/site-packages (from ipython>=7.31.1->ipdb->veggideas==0.0.1) (0.18.2)\n",
      "Requirement already satisfied: pickleshare in /Users/arthurdercq/.pyenv/versions/3.10.6/envs/veggideas/lib/python3.10/site-packages (from ipython>=7.31.1->ipdb->veggideas==0.0.1) (0.7.5)\n",
      "Requirement already satisfied: prompt-toolkit!=3.0.37,<3.1.0,>=3.0.30 in /Users/arthurdercq/.pyenv/versions/3.10.6/envs/veggideas/lib/python3.10/site-packages (from ipython>=7.31.1->ipdb->veggideas==0.0.1) (3.0.38)\n",
      "Requirement already satisfied: pygments>=2.4.0 in /Users/arthurdercq/.pyenv/versions/3.10.6/envs/veggideas/lib/python3.10/site-packages (from ipython>=7.31.1->ipdb->veggideas==0.0.1) (2.15.1)\n",
      "Requirement already satisfied: stack-data in /Users/arthurdercq/.pyenv/versions/3.10.6/envs/veggideas/lib/python3.10/site-packages (from ipython>=7.31.1->ipdb->veggideas==0.0.1) (0.6.2)\n",
      "Requirement already satisfied: pexpect>4.3 in /Users/arthurdercq/.pyenv/versions/3.10.6/envs/veggideas/lib/python3.10/site-packages (from ipython>=7.31.1->ipdb->veggideas==0.0.1) (4.8.0)\n",
      "Requirement already satisfied: platformdirs>=2.5 in /Users/arthurdercq/.pyenv/versions/3.10.6/envs/veggideas/lib/python3.10/site-packages (from jupyter-core!=5.0.*,>=4.12->ipykernel->veggideas==0.0.1) (3.5.1)\n",
      "Requirement already satisfied: jaraco.classes in /Users/arthurdercq/.pyenv/versions/3.10.6/envs/veggideas/lib/python3.10/site-packages (from keyring>=15.1->twine->veggideas==0.0.1) (3.2.3)\n",
      "Requirement already satisfied: bleach>=2.1.0 in /Users/arthurdercq/.pyenv/versions/3.10.6/envs/veggideas/lib/python3.10/site-packages (from readme-renderer>=35.0->twine->veggideas==0.0.1) (6.0.0)\n",
      "Requirement already satisfied: docutils>=0.13.1 in /Users/arthurdercq/.pyenv/versions/3.10.6/envs/veggideas/lib/python3.10/site-packages (from readme-renderer>=35.0->twine->veggideas==0.0.1) (0.20.1)\n",
      "Requirement already satisfied: charset-normalizer<4,>=2 in /Users/arthurdercq/.pyenv/versions/3.10.6/envs/veggideas/lib/python3.10/site-packages (from requests<3.0.0dev,>=2.18.0->google-cloud-storage->veggideas==0.0.1) (3.1.0)\n",
      "Requirement already satisfied: idna<4,>=2.5 in /Users/arthurdercq/.pyenv/versions/3.10.6/envs/veggideas/lib/python3.10/site-packages (from requests<3.0.0dev,>=2.18.0->google-cloud-storage->veggideas==0.0.1) (3.4)\n",
      "Requirement already satisfied: certifi>=2017.4.17 in /Users/arthurdercq/.pyenv/versions/3.10.6/envs/veggideas/lib/python3.10/site-packages (from requests<3.0.0dev,>=2.18.0->google-cloud-storage->veggideas==0.0.1) (2023.5.7)\n",
      "Requirement already satisfied: markdown-it-py<3.0.0,>=2.2.0 in /Users/arthurdercq/.pyenv/versions/3.10.6/envs/veggideas/lib/python3.10/site-packages (from rich>=12.0.0->twine->veggideas==0.0.1) (2.2.0)\n",
      "Requirement already satisfied: anyio<5,>=3.4.0 in /Users/arthurdercq/.pyenv/versions/3.10.6/envs/veggideas/lib/python3.10/site-packages (from starlette<0.28.0,>=0.27.0->fastapi->veggideas==0.0.1) (3.7.0)\n",
      "Requirement already satisfied: google-auth-oauthlib<0.5,>=0.4.1 in /Users/arthurdercq/.pyenv/versions/3.10.6/envs/veggideas/lib/python3.10/site-packages (from tensorboard<2.11,>=2.10->tensorflow-macos==2.10.0->veggideas==0.0.1) (0.4.6)\n",
      "Requirement already satisfied: markdown>=2.6.8 in /Users/arthurdercq/.pyenv/versions/3.10.6/envs/veggideas/lib/python3.10/site-packages (from tensorboard<2.11,>=2.10->tensorflow-macos==2.10.0->veggideas==0.0.1) (3.4.3)\n",
      "Requirement already satisfied: tensorboard-data-server<0.7.0,>=0.6.0 in /Users/arthurdercq/.pyenv/versions/3.10.6/envs/veggideas/lib/python3.10/site-packages (from tensorboard<2.11,>=2.10->tensorflow-macos==2.10.0->veggideas==0.0.1) (0.6.1)\n",
      "Requirement already satisfied: tensorboard-plugin-wit>=1.6.0 in /Users/arthurdercq/.pyenv/versions/3.10.6/envs/veggideas/lib/python3.10/site-packages (from tensorboard<2.11,>=2.10->tensorflow-macos==2.10.0->veggideas==0.0.1) (1.8.1)\n",
      "Requirement already satisfied: werkzeug>=1.0.1 in /Users/arthurdercq/.pyenv/versions/3.10.6/envs/veggideas/lib/python3.10/site-packages (from tensorboard<2.11,>=2.10->tensorflow-macos==2.10.0->veggideas==0.0.1) (2.3.4)\n",
      "Requirement already satisfied: sniffio>=1.1 in /Users/arthurdercq/.pyenv/versions/3.10.6/envs/veggideas/lib/python3.10/site-packages (from anyio<5,>=3.4.0->starlette<0.28.0,>=0.27.0->fastapi->veggideas==0.0.1) (1.3.0)\n",
      "Requirement already satisfied: exceptiongroup in /Users/arthurdercq/.pyenv/versions/3.10.6/envs/veggideas/lib/python3.10/site-packages (from anyio<5,>=3.4.0->starlette<0.28.0,>=0.27.0->fastapi->veggideas==0.0.1) (1.1.1)\n",
      "Requirement already satisfied: webencodings in /Users/arthurdercq/.pyenv/versions/3.10.6/envs/veggideas/lib/python3.10/site-packages (from bleach>=2.1.0->readme-renderer>=35.0->twine->veggideas==0.0.1) (0.5.1)\n",
      "Requirement already satisfied: requests-oauthlib>=0.7.0 in /Users/arthurdercq/.pyenv/versions/3.10.6/envs/veggideas/lib/python3.10/site-packages (from google-auth-oauthlib<0.5,>=0.4.1->tensorboard<2.11,>=2.10->tensorflow-macos==2.10.0->veggideas==0.0.1) (1.3.1)\n",
      "Requirement already satisfied: parso<0.9.0,>=0.8.0 in /Users/arthurdercq/.pyenv/versions/3.10.6/envs/veggideas/lib/python3.10/site-packages (from jedi>=0.16->ipython>=7.31.1->ipdb->veggideas==0.0.1) (0.8.3)\n",
      "Requirement already satisfied: mdurl~=0.1 in /Users/arthurdercq/.pyenv/versions/3.10.6/envs/veggideas/lib/python3.10/site-packages (from markdown-it-py<3.0.0,>=2.2.0->rich>=12.0.0->twine->veggideas==0.0.1) (0.1.2)\n",
      "Requirement already satisfied: ptyprocess>=0.5 in /Users/arthurdercq/.pyenv/versions/3.10.6/envs/veggideas/lib/python3.10/site-packages (from pexpect>4.3->ipython>=7.31.1->ipdb->veggideas==0.0.1) (0.7.0)\n",
      "Requirement already satisfied: wcwidth in /Users/arthurdercq/.pyenv/versions/3.10.6/envs/veggideas/lib/python3.10/site-packages (from prompt-toolkit!=3.0.37,<3.1.0,>=3.0.30->ipython>=7.31.1->ipdb->veggideas==0.0.1) (0.2.6)\n",
      "Requirement already satisfied: pyasn1<0.6.0,>=0.4.6 in /Users/arthurdercq/.pyenv/versions/3.10.6/envs/veggideas/lib/python3.10/site-packages (from pyasn1-modules>=0.2.1->google-auth<3.0dev,>=1.25.0->google-cloud-storage->veggideas==0.0.1) (0.5.0)\n",
      "Requirement already satisfied: MarkupSafe>=2.1.1 in /Users/arthurdercq/.pyenv/versions/3.10.6/envs/veggideas/lib/python3.10/site-packages (from werkzeug>=1.0.1->tensorboard<2.11,>=2.10->tensorflow-macos==2.10.0->veggideas==0.0.1) (2.1.3)\n",
      "Requirement already satisfied: more-itertools in /Users/arthurdercq/.pyenv/versions/3.10.6/envs/veggideas/lib/python3.10/site-packages (from jaraco.classes->keyring>=15.1->twine->veggideas==0.0.1) (9.1.0)\n",
      "Requirement already satisfied: executing>=1.2.0 in /Users/arthurdercq/.pyenv/versions/3.10.6/envs/veggideas/lib/python3.10/site-packages (from stack-data->ipython>=7.31.1->ipdb->veggideas==0.0.1) (1.2.0)\n",
      "Requirement already satisfied: asttokens>=2.1.0 in /Users/arthurdercq/.pyenv/versions/3.10.6/envs/veggideas/lib/python3.10/site-packages (from stack-data->ipython>=7.31.1->ipdb->veggideas==0.0.1) (2.2.1)\n",
      "Requirement already satisfied: pure-eval in /Users/arthurdercq/.pyenv/versions/3.10.6/envs/veggideas/lib/python3.10/site-packages (from stack-data->ipython>=7.31.1->ipdb->veggideas==0.0.1) (0.2.2)\n",
      "Requirement already satisfied: oauthlib>=3.0.0 in /Users/arthurdercq/.pyenv/versions/3.10.6/envs/veggideas/lib/python3.10/site-packages (from requests-oauthlib>=0.7.0->google-auth-oauthlib<0.5,>=0.4.1->tensorboard<2.11,>=2.10->tensorflow-macos==2.10.0->veggideas==0.0.1) (3.2.2)\n",
      "Installing collected packages: veggideas\n",
      "  Attempting uninstall: veggideas\n",
      "    Found existing installation: veggideas 0.0.1\n",
      "    Uninstalling veggideas-0.0.1:\n",
      "      Successfully uninstalled veggideas-0.0.1\n",
      "  Running setup.py develop for veggideas\n",
      "Successfully installed veggideas-0.0.1\n"
     ]
    }
   ],
   "source": [
    "!pip install -e .."
   ]
  },
  {
   "cell_type": "code",
   "execution_count": 1,
   "metadata": {},
   "outputs": [],
   "source": [
    "from veggideas.recipes import get_recipes_details\n",
    "from veggideas.registry import load_model\n",
    "from veggideas.transfer import evaluate_model\n",
    "import cv2\n",
    "import numpy as np\n"
   ]
  },
  {
   "cell_type": "code",
   "execution_count": 2,
   "metadata": {},
   "outputs": [
    {
     "name": "stdout",
     "output_type": "stream",
     "text": [
      "\n",
      "Load latest model from GCS...\n",
      "Metal device set to: Apple M2\n",
      "\n",
      "systemMemory: 16.00 GB\n",
      "maxCacheSize: 5.33 GB\n",
      "\n",
      "WARNING:tensorflow:Using a while_loop for converting RngReadAndSkip cause there is no registered converter for this op.\n",
      "WARNING:tensorflow:Using a while_loop for converting Bitcast cause there is no registered converter for this op.\n",
      "WARNING:tensorflow:Using a while_loop for converting Bitcast cause there is no registered converter for this op.\n",
      "WARNING:tensorflow:Using a while_loop for converting StatelessRandomUniformV2 cause there is no registered converter for this op.\n"
     ]
    },
    {
     "name": "stderr",
     "output_type": "stream",
     "text": [
      "2023-06-13 09:48:24.306243: I tensorflow/core/common_runtime/pluggable_device/pluggable_device_factory.cc:306] Could not identify NUMA node of platform GPU ID 0, defaulting to 0. Your kernel may not have been built with NUMA support.\n",
      "2023-06-13 09:48:24.306959: I tensorflow/core/common_runtime/pluggable_device/pluggable_device_factory.cc:272] Created TensorFlow device (/job:localhost/replica:0/task:0/device:GPU:0 with 0 MB memory) -> physical PluggableDevice (device: 0, name: METAL, pci bus id: <undefined>)\n"
     ]
    },
    {
     "name": "stdout",
     "output_type": "stream",
     "text": [
      "WARNING:tensorflow:Using a while_loop for converting ImageProjectiveTransformV3 cause there is no registered converter for this op.\n",
      "WARNING:tensorflow:Using a while_loop for converting RngReadAndSkip cause there is no registered converter for this op.\n",
      "WARNING:tensorflow:Using a while_loop for converting Bitcast cause there is no registered converter for this op.\n",
      "WARNING:tensorflow:Using a while_loop for converting Bitcast cause there is no registered converter for this op.\n",
      "WARNING:tensorflow:Using a while_loop for converting StatelessRandomUniformV2 cause there is no registered converter for this op.\n",
      "WARNING:tensorflow:Using a while_loop for converting ImageProjectiveTransformV3 cause there is no registered converter for this op.\n",
      "✅ Latest model downloaded from cloud storage\n"
     ]
    }
   ],
   "source": [
    "model = load_model()"
   ]
  },
  {
   "cell_type": "code",
   "execution_count": 26,
   "metadata": {},
   "outputs": [
    {
     "name": "stdout",
     "output_type": "stream",
     "text": [
      "Found 3000 files belonging to 15 classes.\n",
      "Loading test data\n",
      "Testing data successfully loaded ✅\n",
      "Evaluating model...\n"
     ]
    },
    {
     "name": "stderr",
     "output_type": "stream",
     "text": [
      "2023-06-12 10:22:15.867025: I tensorflow/core/grappler/optimizers/custom_graph_optimizer_registry.cc:114] Plugin optimizer for device_type GPU is enabled.\n"
     ]
    },
    {
     "name": "stdout",
     "output_type": "stream",
     "text": [
      "✅ Model evaluated, ACCURACY: 0.97, LOSS: 0.1264410763978958\n"
     ]
    }
   ],
   "source": [
    "evaluate_model(model)"
   ]
  },
  {
   "cell_type": "code",
   "execution_count": 19,
   "metadata": {},
   "outputs": [
    {
     "name": "stdout",
     "output_type": "stream",
     "text": [
      "New image preprocessed correclty ✅\n"
     ]
    }
   ],
   "source": [
    "def preprocess_new_image():\n",
    "# Demande à l'utilisateur de sélectionner une image depuis l'ordinateur\n",
    "    image_path = '/Users/arthurdercq/Desktop/brocolis.jpeg'\n",
    "    \n",
    "\n",
    "    # Charge l'image à l'aide de OpenCV\n",
    "    image = cv2.imread(image_path)\n",
    "    resized_image = cv2.resize(image, (224, 224))\n",
    "    resized_image = np.expand_dims(resized_image, axis=0)\n",
    "\n",
    "    print(\"New image preprocessed correclty ✅\")\n",
    "    \n",
    "    return resized_image\n",
    "\n",
    "new_image = preprocess_new_image()\n"
   ]
  },
  {
   "cell_type": "code",
   "execution_count": null,
   "metadata": {},
   "outputs": [],
   "source": []
  },
  {
   "cell_type": "code",
   "execution_count": 20,
   "metadata": {},
   "outputs": [
    {
     "name": "stdout",
     "output_type": "stream",
     "text": [
      "1/1 [==============================] - 0s 33ms/step\n"
     ]
    }
   ],
   "source": [
    "prediction = model.predict(new_image)"
   ]
  },
  {
   "cell_type": "code",
   "execution_count": 21,
   "metadata": {},
   "outputs": [
    {
     "name": "stdout",
     "output_type": "stream",
     "text": [
      "bitter_gourd\n"
     ]
    }
   ],
   "source": [
    "vegg_list = ['Bean', 'Bitter_Gourd', 'Bottle_Gourd', 'Brinjal', 'Broccoli',\n",
    "             'Cabbage', 'Capsicum', 'Carrot', 'Cauliflower', 'Cucumber',\n",
    "             'Papaya', 'Potato', 'Pumpkin', 'Radish', 'Tomato']\n",
    "\n",
    "pred_class = np.argmax(prediction, axis=-1)[0]\n",
    "\n",
    "final_prediction = vegg_list[pred_class].lower()\n",
    "\n",
    "print(final_prediction)"
   ]
  },
  {
   "cell_type": "code",
   "execution_count": 9,
   "metadata": {},
   "outputs": [
    {
     "data": {
      "text/html": [
       "<div>\n",
       "<style scoped>\n",
       "    .dataframe tbody tr th:only-of-type {\n",
       "        vertical-align: middle;\n",
       "    }\n",
       "\n",
       "    .dataframe tbody tr th {\n",
       "        vertical-align: top;\n",
       "    }\n",
       "\n",
       "    .dataframe thead th {\n",
       "        text-align: right;\n",
       "    }\n",
       "</style>\n",
       "<table border=\"1\" class=\"dataframe\">\n",
       "  <thead>\n",
       "    <tr style=\"text-align: right;\">\n",
       "      <th></th>\n",
       "      <th>Recipe Name</th>\n",
       "      <th>Recipe URL</th>\n",
       "      <th>Ingredients</th>\n",
       "      <th>Diet Type</th>\n",
       "      <th>Calories</th>\n",
       "    </tr>\n",
       "  </thead>\n",
       "  <tbody>\n",
       "    <tr>\n",
       "      <th>0</th>\n",
       "      <td>1386-autumn-pumpkin-soup</td>\n",
       "      <td>https://food52.com/recipes/1386-autumn-pumpkin...</td>\n",
       "      <td>{'1 medium pumpkin': 1.0, '1 tablespoon olive ...</td>\n",
       "      <td>[Gluten-Free, Wheat-Free, Egg-Free]</td>\n",
       "      <td>1338.631946</td>\n",
       "    </tr>\n",
       "    <tr>\n",
       "      <th>1</th>\n",
       "      <td>pumpkin-pie</td>\n",
       "      <td>http://www.marthastewart.com/312705/pumpkin-pie</td>\n",
       "      <td>{'1 sugar pumpkin (about 4 pounds), halved, or...</td>\n",
       "      <td>[Vegetarian, Pescatarian, Peanut-Free]</td>\n",
       "      <td>5101.878026</td>\n",
       "    </tr>\n",
       "    <tr>\n",
       "      <th>2</th>\n",
       "      <td></td>\n",
       "      <td>http://honestcooking.com/autumn-pumpkin-bagels/</td>\n",
       "      <td>{'1 tbsp (18g) instant yeast': 18.0, '3 – 3½ c...</td>\n",
       "      <td>[Vegetarian, Pescatarian, Dairy-Free]</td>\n",
       "      <td>2067.085000</td>\n",
       "    </tr>\n",
       "    <tr>\n",
       "      <th>3</th>\n",
       "      <td>pumpkin-risotto</td>\n",
       "      <td>http://www.bbcgoodfood.com/recipes/2556635/pum...</td>\n",
       "      <td>{'1 small pumpkin or butternut squash- after p...</td>\n",
       "      <td>[Vegetarian, Pescatarian, Gluten-Free]</td>\n",
       "      <td>1907.628362</td>\n",
       "    </tr>\n",
       "    <tr>\n",
       "      <th>4</th>\n",
       "      <td>pumpkin_muffins_with_pecan_streusel_topping.html</td>\n",
       "      <td>http://www.seriouseats.com/recipes/2008/10/pum...</td>\n",
       "      <td>{'1 3/4 cups whole wheat flour': 1.75, '1/2 cu...</td>\n",
       "      <td>[Vegetarian, Pescatarian, Peanut-Free]</td>\n",
       "      <td>1733.941167</td>\n",
       "    </tr>\n",
       "    <tr>\n",
       "      <th>5</th>\n",
       "      <td></td>\n",
       "      <td>http://chezus.com/2013/11/19/mini-pumpkin-tarts/</td>\n",
       "      <td>{'1 cup gluten free rolled oats': 1.0, '1/2 cu...</td>\n",
       "      <td>[Vegetarian, Pescatarian, Dairy-Free]</td>\n",
       "      <td>1992.898000</td>\n",
       "    </tr>\n",
       "    <tr>\n",
       "      <th>6</th>\n",
       "      <td></td>\n",
       "      <td>http://www.eatingwell.com/recipe/260736/pumpki...</td>\n",
       "      <td>{'1 medium frozen banana': 1.0, '½ cup unsweet...</td>\n",
       "      <td>[Vegetarian, Pescatarian, Gluten-Free]</td>\n",
       "      <td>260.627167</td>\n",
       "    </tr>\n",
       "    <tr>\n",
       "      <th>7</th>\n",
       "      <td></td>\n",
       "      <td>http://simplyrecipes.com/recipes/spicy_pumpkin...</td>\n",
       "      <td>{'4 Tbsp unsalted butter': 4.0, '2 medium yell...</td>\n",
       "      <td>[Gluten-Free, Wheat-Free, Egg-Free]</td>\n",
       "      <td>2370.184079</td>\n",
       "    </tr>\n",
       "    <tr>\n",
       "      <th>8</th>\n",
       "      <td></td>\n",
       "      <td>http://www.delish.com/cooking/recipe-ideas/rec...</td>\n",
       "      <td>{'1 box flan with caramel sauce mix': 1.0, '1 ...</td>\n",
       "      <td>[Sugar-Conscious, Low Sugar, Kidney-Friendly]</td>\n",
       "      <td>1377.600000</td>\n",
       "    </tr>\n",
       "    <tr>\n",
       "      <th>9</th>\n",
       "      <td></td>\n",
       "      <td>http://joythebaker.com/2014/10/maple-spiced-al...</td>\n",
       "      <td>{'2 cups raw whole almonds': 2.0, '4 cups filt...</td>\n",
       "      <td>[Vegan, Vegetarian, Pescatarian]</td>\n",
       "      <td>1846.053250</td>\n",
       "    </tr>\n",
       "  </tbody>\n",
       "</table>\n",
       "</div>"
      ],
      "text/plain": [
       "                                        Recipe Name  \\\n",
       "0                          1386-autumn-pumpkin-soup   \n",
       "1                                       pumpkin-pie   \n",
       "2                                                     \n",
       "3                                   pumpkin-risotto   \n",
       "4  pumpkin_muffins_with_pecan_streusel_topping.html   \n",
       "5                                                     \n",
       "6                                                     \n",
       "7                                                     \n",
       "8                                                     \n",
       "9                                                     \n",
       "\n",
       "                                          Recipe URL  \\\n",
       "0  https://food52.com/recipes/1386-autumn-pumpkin...   \n",
       "1    http://www.marthastewart.com/312705/pumpkin-pie   \n",
       "2    http://honestcooking.com/autumn-pumpkin-bagels/   \n",
       "3  http://www.bbcgoodfood.com/recipes/2556635/pum...   \n",
       "4  http://www.seriouseats.com/recipes/2008/10/pum...   \n",
       "5   http://chezus.com/2013/11/19/mini-pumpkin-tarts/   \n",
       "6  http://www.eatingwell.com/recipe/260736/pumpki...   \n",
       "7  http://simplyrecipes.com/recipes/spicy_pumpkin...   \n",
       "8  http://www.delish.com/cooking/recipe-ideas/rec...   \n",
       "9  http://joythebaker.com/2014/10/maple-spiced-al...   \n",
       "\n",
       "                                         Ingredients  \\\n",
       "0  {'1 medium pumpkin': 1.0, '1 tablespoon olive ...   \n",
       "1  {'1 sugar pumpkin (about 4 pounds), halved, or...   \n",
       "2  {'1 tbsp (18g) instant yeast': 18.0, '3 – 3½ c...   \n",
       "3  {'1 small pumpkin or butternut squash- after p...   \n",
       "4  {'1 3/4 cups whole wheat flour': 1.75, '1/2 cu...   \n",
       "5  {'1 cup gluten free rolled oats': 1.0, '1/2 cu...   \n",
       "6  {'1 medium frozen banana': 1.0, '½ cup unsweet...   \n",
       "7  {'4 Tbsp unsalted butter': 4.0, '2 medium yell...   \n",
       "8  {'1 box flan with caramel sauce mix': 1.0, '1 ...   \n",
       "9  {'2 cups raw whole almonds': 2.0, '4 cups filt...   \n",
       "\n",
       "                                       Diet Type     Calories  \n",
       "0            [Gluten-Free, Wheat-Free, Egg-Free]  1338.631946  \n",
       "1         [Vegetarian, Pescatarian, Peanut-Free]  5101.878026  \n",
       "2          [Vegetarian, Pescatarian, Dairy-Free]  2067.085000  \n",
       "3         [Vegetarian, Pescatarian, Gluten-Free]  1907.628362  \n",
       "4         [Vegetarian, Pescatarian, Peanut-Free]  1733.941167  \n",
       "5          [Vegetarian, Pescatarian, Dairy-Free]  1992.898000  \n",
       "6         [Vegetarian, Pescatarian, Gluten-Free]   260.627167  \n",
       "7            [Gluten-Free, Wheat-Free, Egg-Free]  2370.184079  \n",
       "8  [Sugar-Conscious, Low Sugar, Kidney-Friendly]  1377.600000  \n",
       "9               [Vegan, Vegetarian, Pescatarian]  1846.053250  "
      ]
     },
     "execution_count": 9,
     "metadata": {},
     "output_type": "execute_result"
    }
   ],
   "source": [
    "# from veggideas.recipes import get_recipes_details\n",
    "\n",
    "# recipes = get_recipes_details(10, final_prediction)\n",
    "get_recipes_details(10,final_prediction)"
   ]
  }
 ],
 "metadata": {
  "kernelspec": {
   "display_name": "veggideas",
   "language": "python",
   "name": "python3"
  },
  "language_info": {
   "codemirror_mode": {
    "name": "ipython",
    "version": 3
   },
   "file_extension": ".py",
   "mimetype": "text/x-python",
   "name": "python",
   "nbconvert_exporter": "python",
   "pygments_lexer": "ipython3",
   "version": "3.10.6"
  },
  "orig_nbformat": 4
 },
 "nbformat": 4,
 "nbformat_minor": 2
}
