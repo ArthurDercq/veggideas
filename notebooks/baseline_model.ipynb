{
 "cells": [
  {
   "cell_type": "code",
   "execution_count": 5,
   "metadata": {},
   "outputs": [
    {
     "name": "stderr",
     "output_type": "stream",
     "text": [
      "2023-06-06 12:47:53.522606: I tensorflow/core/platform/cpu_feature_guard.cc:193] This TensorFlow binary is optimized with oneAPI Deep Neural Network Library (oneDNN) to use the following CPU instructions in performance-critical operations:  AVX2 FMA\n",
      "To enable them in other operations, rebuild TensorFlow with the appropriate compiler flags.\n"
     ]
    },
    {
     "name": "stdout",
     "output_type": "stream",
     "text": [
      "Found 15000 files belonging to 15 classes.\n"
     ]
    },
    {
     "name": "stderr",
     "output_type": "stream",
     "text": [
      "2023-06-06 12:48:04.330810: I tensorflow/core/platform/cpu_feature_guard.cc:193] This TensorFlow binary is optimized with oneAPI Deep Neural Network Library (oneDNN) to use the following CPU instructions in performance-critical operations:  AVX2 FMA\n",
      "To enable them in other operations, rebuild TensorFlow with the appropriate compiler flags.\n"
     ]
    },
    {
     "name": "stdout",
     "output_type": "stream",
     "text": [
      "Loading training data\n",
      "Training data successfully loaded ✅\n",
      "Found 3000 files belonging to 15 classes.\n",
      "Loading validation data\n",
      "Validation data successfully loaded ✅\n",
      "Found 3000 files belonging to 15 classes.\n",
      "Loading test data\n",
      "Testing data successfully loaded ✅\n"
     ]
    }
   ],
   "source": [
    "from veggideas.load_data import load_train_data\n",
    "from veggideas.load_data import load_val_data\n",
    "import tensorflow as tf\n",
    "from tensorflow.keras.models import Sequential\n",
    "from tensorflow.keras.layers import Conv2D, MaxPooling2D, Flatten, Dense\n",
    "\n"
   ]
  },
  {
   "cell_type": "code",
   "execution_count": 10,
   "metadata": {},
   "outputs": [
    {
     "name": "stdout",
     "output_type": "stream",
     "text": [
      "Found 15000 files belonging to 15 classes.\n",
      "Loading training data\n",
      "Training data successfully loaded ✅\n",
      "Found 3000 files belonging to 15 classes.\n",
      "Loading validation data\n",
      "Validation data successfully loaded ✅\n"
     ]
    }
   ],
   "source": [
    "train_data = load_train_data()\n",
    "val_data = load_val_data()\n",
    "\n",
    "\n"
   ]
  },
  {
   "cell_type": "code",
   "execution_count": 11,
   "metadata": {},
   "outputs": [],
   "source": [
    "def initialize_base_model():\n",
    "    model = Sequential()\n",
    "    model.add(Conv2D(32, (3, 3), activation='relu', input_shape=(224,224, 3)))\n",
    "    model.add(MaxPooling2D((4, 4)))\n",
    "    model.add(Flatten())\n",
    "    model.add(Dense(15, activation='softmax'))\n",
    "\n",
    "    model.compile(optimizer='adam',\n",
    "              loss='categorical_crossentropy',\n",
    "              metrics=['accuracy'])\n",
    "    return model\n",
    "\n",
    "model = initialize_base_model()"
   ]
  },
  {
   "cell_type": "code",
   "execution_count": 13,
   "metadata": {},
   "outputs": [
    {
     "name": "stdout",
     "output_type": "stream",
     "text": [
      "Epoch 1/10\n",
      "469/469 [==============================] - 296s 628ms/step - loss: 186.0064 - accuracy: 0.5044\n",
      "Epoch 2/10\n",
      "469/469 [==============================] - 283s 604ms/step - loss: 0.9676 - accuracy: 0.8459\n",
      "Epoch 3/10\n",
      "469/469 [==============================] - 2256s 5s/step - loss: 0.3679 - accuracy: 0.9323\n",
      "Epoch 4/10\n",
      "469/469 [==============================] - 363s 774ms/step - loss: 0.2483 - accuracy: 0.9573\n",
      "Epoch 5/10\n",
      "469/469 [==============================] - 1322s 3s/step - loss: 0.3047 - accuracy: 0.9641\n",
      "Epoch 6/10\n",
      "469/469 [==============================] - 415s 884ms/step - loss: 0.2339 - accuracy: 0.9673\n",
      "Epoch 7/10\n",
      "469/469 [==============================] - 386s 823ms/step - loss: 0.2776 - accuracy: 0.9568\n",
      "Epoch 8/10\n",
      "469/469 [==============================] - 367s 782ms/step - loss: 0.4040 - accuracy: 0.9513\n",
      "Epoch 9/10\n",
      "469/469 [==============================] - 289s 614ms/step - loss: 0.5141 - accuracy: 0.9343\n",
      "Epoch 10/10\n",
      "469/469 [==============================] - 280s 597ms/step - loss: 0.4353 - accuracy: 0.9406\n"
     ]
    },
    {
     "data": {
      "text/plain": [
       "<keras.callbacks.History at 0x1274564a0>"
      ]
     },
     "execution_count": 13,
     "metadata": {},
     "output_type": "execute_result"
    }
   ],
   "source": [
    "model.fit(train_data, batch_size=32, epochs=10 )"
   ]
  }
 ],
 "metadata": {
  "kernelspec": {
   "display_name": "veggideas",
   "language": "python",
   "name": "python3"
  },
  "language_info": {
   "codemirror_mode": {
    "name": "ipython",
    "version": 3
   },
   "file_extension": ".py",
   "mimetype": "text/x-python",
   "name": "python",
   "nbconvert_exporter": "python",
   "pygments_lexer": "ipython3",
   "version": "3.10.6"
  },
  "orig_nbformat": 4
 },
 "nbformat": 4,
 "nbformat_minor": 2
}
