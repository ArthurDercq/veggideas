{
 "cells": [
  {
   "cell_type": "code",
   "execution_count": 1,
   "metadata": {},
   "outputs": [],
   "source": [
    "from veggideas.load_data import load_train_data\n",
    "from veggideas.load_data import load_val_data\n",
    "import tensorflow as tf\n",
    "from tensorflow.keras.models import Sequential\n",
    "from tensorflow.keras.layers import Conv2D, MaxPooling2D, Flatten, Dense"
   ]
  },
  {
   "cell_type": "code",
   "execution_count": 3,
   "metadata": {},
   "outputs": [],
   "source": [
    "def initialize_base_model():\n",
    "    model = Sequential()\n",
    "    model.add(Conv2D(32, (3, 3), activation='relu', input_shape=(224,224, 3)))\n",
    "    model.add(MaxPooling2D((4, 4)))\n",
    "    model.add(Flatten())\n",
    "    model.add(Dense(15, activation='softmax'))\n",
    "\n",
    "    model.compile(optimizer='adam',\n",
    "              loss='categorical_crossentropy',\n",
    "              metrics=['accuracy'])\n",
    "    return model\n",
    "\n",
    "model = initialize_base_model()"
   ]
  },
  {
   "cell_type": "code",
   "execution_count": 9,
   "metadata": {},
   "outputs": [
    {
     "name": "stdout",
     "output_type": "stream",
     "text": [
      "\n",
      "Load latest model from GCS...\n",
      "✅ Latest model downloaded from cloud storage\n"
     ]
    }
   ],
   "source": [
    "from veggideas.registry import load_model\n",
    "\n",
    "model = load_model()"
   ]
  },
  {
   "cell_type": "code",
   "execution_count": 2,
   "metadata": {},
   "outputs": [
    {
     "name": "stdout",
     "output_type": "stream",
     "text": [
      "New image preprocessed correclty ✅\n"
     ]
    }
   ],
   "source": [
    "#trying out a prediction on a new image\n",
    "import os\n",
    "import cv2\n",
    "import numpy as np\n",
    "\n",
    "def preprocess_new_image():\n",
    "# Demande à l'utilisateur de sélectionner une image depuis l'ordinateur\n",
    "    image_path = \"/Users/arthurdercq/Desktop/broccoli.jpg\"\n",
    "\n",
    "    # Charge l'image à l'aide de OpenCV\n",
    "    image = cv2.imread(image_path)\n",
    "    resized_image = cv2.resize(image, (224, 224))\n",
    "    resized_image = np.expand_dims(resized_image, axis=0)\n",
    "\n",
    "    print(\"New image preprocessed correclty ✅\")\n",
    "    \n",
    "    return resized_image\n",
    "\n",
    "new_image = preprocess_new_image()\n",
    "\n"
   ]
  },
  {
   "cell_type": "code",
   "execution_count": 4,
   "metadata": {},
   "outputs": [
    {
     "name": "stdout",
     "output_type": "stream",
     "text": [
      "\n",
      "Load latest model from GCS...\n",
      "✅ Latest model downloaded from cloud storage\n",
      "Model: \"sequential\"\n",
      "_________________________________________________________________\n",
      " Layer (type)                Output Shape              Param #   \n",
      "=================================================================\n",
      " conv2d (Conv2D)             (None, 222, 222, 32)      896       \n",
      "                                                                 \n",
      " max_pooling2d (MaxPooling2D  (None, 55, 55, 32)       0         \n",
      " )                                                               \n",
      "                                                                 \n",
      " flatten (Flatten)           (None, 96800)             0         \n",
      "                                                                 \n",
      " dense (Dense)               (None, 15)                1452015   \n",
      "                                                                 \n",
      "=================================================================\n",
      "Total params: 1,452,911\n",
      "Trainable params: 1,452,911\n",
      "Non-trainable params: 0\n",
      "_________________________________________________________________\n"
     ]
    }
   ],
   "source": [
    "from veggideas.registry import save_model, save_results, load_model\n",
    "\n",
    "model = load_model()\n",
    "\n",
    "model.summary()"
   ]
  },
  {
   "cell_type": "code",
   "execution_count": 5,
   "metadata": {},
   "outputs": [
    {
     "name": "stdout",
     "output_type": "stream",
     "text": [
      "1/1 [==============================] - 0s 44ms/step\n"
     ]
    },
    {
     "name": "stderr",
     "output_type": "stream",
     "text": [
      "2023-06-09 16:43:28.998694: W tensorflow/core/platform/profile_utils/cpu_utils.cc:128] Failed to get CPU frequency: 0 Hz\n"
     ]
    }
   ],
   "source": [
    "prediction = model.predict(new_image)"
   ]
  },
  {
   "cell_type": "code",
   "execution_count": 6,
   "metadata": {},
   "outputs": [
    {
     "data": {
      "text/plain": [
       "array([[1.43161062e-16, 2.15412001e-06, 1.23545136e-20, 0.00000000e+00,\n",
       "        0.00000000e+00, 2.71078038e-14, 0.00000000e+00, 0.00000000e+00,\n",
       "        0.00000000e+00, 1.89380791e-15, 0.00000000e+00, 1.47123581e-22,\n",
       "        9.99997854e-01, 3.04430897e-10, 1.06826385e-36]], dtype=float32)"
      ]
     },
     "execution_count": 6,
     "metadata": {},
     "output_type": "execute_result"
    }
   ],
   "source": [
    "prediction"
   ]
  },
  {
   "cell_type": "code",
   "execution_count": 7,
   "metadata": {},
   "outputs": [
    {
     "name": "stdout",
     "output_type": "stream",
     "text": [
      "Pumpkin\n"
     ]
    }
   ],
   "source": [
    "vegg_list = ['Bean', 'Bitter_Gourd', 'Bottle_Gourd', 'Brinjal', 'Broccoli',\n",
    "             'Cabbage', 'Capsicum', 'Carrot', 'Cauliflower', 'Cucumber',\n",
    "             'Papaya', 'Potato', 'Pumpkin', 'Radish', 'Tomato']\n",
    "\n",
    "pred_class = np.argmax(prediction, axis=-1)[0]\n",
    "\n",
    "final_prediction = vegg_list[pred_class]\n",
    "\n",
    "print(final_prediction)"
   ]
  },
  {
   "cell_type": "code",
   "execution_count": null,
   "metadata": {},
   "outputs": [],
   "source": []
  }
 ],
 "metadata": {
  "kernelspec": {
   "display_name": "veggideas",
   "language": "python",
   "name": "python3"
  },
  "language_info": {
   "codemirror_mode": {
    "name": "ipython",
    "version": 3
   },
   "file_extension": ".py",
   "mimetype": "text/x-python",
   "name": "python",
   "nbconvert_exporter": "python",
   "pygments_lexer": "ipython3",
   "version": "3.10.6"
  },
  "orig_nbformat": 4
 },
 "nbformat": 4,
 "nbformat_minor": 2
}
