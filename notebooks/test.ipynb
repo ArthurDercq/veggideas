{
 "cells": [
  {
   "cell_type": "code",
   "execution_count": 11,
   "metadata": {},
   "outputs": [],
   "source": [
    "from veggideas.load_data import *\n",
    "from keras import layers"
   ]
  },
  {
   "cell_type": "code",
   "execution_count": 12,
   "metadata": {},
   "outputs": [
    {
     "name": "stdout",
     "output_type": "stream",
     "text": [
      "Found 15000 files belonging to 15 classes.\n",
      "Loading training data\n",
      "Training data successfully loaded ✅\n"
     ]
    }
   ],
   "source": [
    "train_data = load_train_data()"
   ]
  },
  {
   "cell_type": "code",
   "execution_count": 13,
   "metadata": {},
   "outputs": [
    {
     "name": "stderr",
     "output_type": "stream",
     "text": [
      "2023-06-06 15:41:43.202395: W tensorflow/core/platform/profile_utils/cpu_utils.cc:128] Failed to get CPU frequency: 0 Hz\n"
     ]
    }
   ],
   "source": [
    "import tensorflow as tf\n",
    "from keras.preprocessing.image import ImageDataGenerator\n",
    "\n",
    "datagen = ImageDataGenerator(\n",
    "    rotation_range=20,  # Rotate images by 20 degrees\n",
    "    width_shift_range=0.2,  # Shift images horizontally by 20% of the total width\n",
    "    height_shift_range=0.2,  # Shift images vertically by 20% of the total height\n",
    "    shear_range=0.2,  # Apply shear transformation with a shear intensity of 20%\n",
    "    zoom_range=0.2,  # Apply zoom transformation with a zoom range of 20%\n",
    "    horizontal_flip=True,  # Flip images horizontally\n",
    "    fill_mode='nearest'  # Fill newly created pixels during transformations with the nearest value\n",
    ")\n",
    "\n",
    "# Create an empty list to store augmented images and labels\n",
    "augmented_images = []\n",
    "augmented_labels = []\n",
    "\n",
    "# Iterate over each batch in the training dataset\n",
    "for images, labels in train_data:\n",
    "    # Apply data augmentation to the batch\n",
    "    augmented_batch = datagen.flow(images, labels, batch_size=images.shape[0])\n",
    "    augmented_images.extend(augmented_batch[0][0])\n",
    "    augmented_labels.extend(augmented_batch[0][1])\n",
    "\n",
    "# Convert the augmented images and labels to TensorFlow tensors\n",
    "augmented_images = tf.convert_to_tensor(augmented_images)\n",
    "augmented_labels = tf.convert_to_tensor(augmented_labels)\n",
    "\n",
    "# Create a new dataset using the augmented images and labels\n",
    "augmented_train_data = tf.data.Dataset.from_tensor_slices((augmented_images, augmented_labels))\n"
   ]
  },
  {
   "cell_type": "code",
   "execution_count": 14,
   "metadata": {},
   "outputs": [],
   "source": [
    "def preprocessing_image():\n",
    "    resize_and_rescale = tf.keras.Sequential([\n",
    "        layers.Rescaling(1./255)\n",
    "    ])\n",
    "    \n",
    "    data_augmentation = tf.keras.Sequential([\n",
    "        layers.RandomFlip(\"horizontal_and_vertical\"),\n",
    "        layers.RandomRotation(0.2),\n",
    "        ])\n",
    "    return resize_and_rescale, data_augmentation"
   ]
  }
 ],
 "metadata": {
  "kernelspec": {
   "display_name": "veggideas",
   "language": "python",
   "name": "python3"
  },
  "language_info": {
   "codemirror_mode": {
    "name": "ipython",
    "version": 3
   },
   "file_extension": ".py",
   "mimetype": "text/x-python",
   "name": "python",
   "nbconvert_exporter": "python",
   "pygments_lexer": "ipython3",
   "version": "3.10.6"
  },
  "orig_nbformat": 4
 },
 "nbformat": 4,
 "nbformat_minor": 2
}
