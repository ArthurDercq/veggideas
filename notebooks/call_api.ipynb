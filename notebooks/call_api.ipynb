{
 "cells": [
  {
   "cell_type": "code",
   "execution_count": 115,
   "metadata": {},
   "outputs": [],
   "source": [
    "import requests\n",
    "import sqlite3\n",
    "import json\n",
    "import urllib\n",
    "from random import randint\n"
   ]
  },
  {
   "cell_type": "code",
   "execution_count": 153,
   "metadata": {},
   "outputs": [],
   "source": [
    "#https://developer.edamam.com/edamam-docs-recipe-api"
   ]
  },
  {
   "cell_type": "code",
   "execution_count": 147,
   "metadata": {},
   "outputs": [],
   "source": [
    "IDS = {-1}\n",
    "APP_ID = \"785b538a\"\n",
    "API_KEY = \"01bde07232a776b52909d9876ae11db4\"\n",
    "VEGETABLE = [\"carrot\", \"chicken\"]\n",
    "DIET = \"high-fiber\"\n",
    "CALORIES = \"100-800\"\n",
    "\n",
    "\n",
    "URL = f\"https://api.edamam.com/api/recipes/v2?type=public&q={VEGETABLE}&app_id={APP_ID}&app_key={API_KEY}&diet={DIET}&calories={CALORIES}&field=url&field=dietLabels&field=healthLabels&field=ingredients&field=calories&field=cuisineType&field=mealType\"\n",
    "\n"
   ]
  },
  {
   "cell_type": "code",
   "execution_count": 148,
   "metadata": {},
   "outputs": [],
   "source": [
    "def make_requests(url):\n",
    "    response = requests.get(url)\n",
    "    data = response.json()\n",
    "    return data\n",
    "\n",
    "\n",
    "    "
   ]
  },
  {
   "cell_type": "code",
   "execution_count": 149,
   "metadata": {},
   "outputs": [],
   "source": [
    "recipes = make_requests(URL)"
   ]
  },
  {
   "cell_type": "code",
   "execution_count": 152,
   "metadata": {},
   "outputs": [
    {
     "data": {
      "text/plain": [
       "[{'text': '1 pound small carrots (about 12), peeled',\n",
       "  'quantity': 1.0,\n",
       "  'measure': 'pound',\n",
       "  'food': 'carrots',\n",
       "  'weight': 453.59237,\n",
       "  'foodCategory': 'vegetables',\n",
       "  'foodId': 'food_ai215e5b85pdh5ajd4aafa3w2zm8',\n",
       "  'image': 'https://www.edamam.com/food-img/121/121e33fce0bb9546ed7d060b6c114e29.jpg'},\n",
       " {'text': '1/2 cup coarsely chopped almonds',\n",
       "  'quantity': 0.5,\n",
       "  'measure': 'cup',\n",
       "  'food': 'almonds',\n",
       "  'weight': 71.5,\n",
       "  'foodCategory': 'plant-based protein',\n",
       "  'foodId': 'food_bq4d2wras281i0br37nrnaglo3yc',\n",
       "  'image': 'https://www.edamam.com/food-img/6c2/6c2dc21adf11afc4c8d390ee2f651e56.jpg'},\n",
       " {'text': '1 tablespoon honey',\n",
       "  'quantity': 1.0,\n",
       "  'measure': 'tablespoon',\n",
       "  'food': 'honey',\n",
       "  'weight': 21.0,\n",
       "  'foodCategory': 'sugar syrups',\n",
       "  'foodId': 'food_b1cj2pmac27zngan87974b0a40hk',\n",
       "  'image': 'https://www.edamam.com/food-img/198/198c7b25c23b4235b4cc33818c7b335f.jpg'},\n",
       " {'text': '4 tablespoons olive oil, divided',\n",
       "  'quantity': 4.0,\n",
       "  'measure': 'tablespoon',\n",
       "  'food': 'olive oil',\n",
       "  'weight': 54.0,\n",
       "  'foodCategory': 'Oils',\n",
       "  'foodId': 'food_b1d1icuad3iktrbqby0hiagafaz7',\n",
       "  'image': 'https://www.edamam.com/food-img/4d6/4d651eaa8a353647746290c7a9b29d84.jpg'},\n",
       " {'text': 'Kosher salt, freshly ground pepper',\n",
       "  'quantity': 0.0,\n",
       "  'measure': None,\n",
       "  'food': 'Kosher salt',\n",
       "  'weight': 12.067554220002588,\n",
       "  'foodCategory': 'Condiments and sauces',\n",
       "  'foodId': 'food_a1vgrj1bs8rd1majvmd9ubz8ttkg',\n",
       "  'image': 'https://www.edamam.com/food-img/694/6943ea510918c6025795e8dc6e6eaaeb.jpg'},\n",
       " {'text': '4 skin-on, bone-in chicken breasts (3-4 pounds total)',\n",
       "  'quantity': 4.0,\n",
       "  'measure': '<unit>',\n",
       "  'food': 'chicken breasts',\n",
       "  'weight': 1088.0,\n",
       "  'foodCategory': 'Poultry',\n",
       "  'foodId': 'food_bdrxu94aj3x2djbpur8dhagfhkcn',\n",
       "  'image': 'https://www.edamam.com/food-img/da5/da510379d3650787338ca16fb69f4c94.jpg'},\n",
       " {'text': '1 cup plain Greek yogurt',\n",
       "  'quantity': 1.0,\n",
       "  'measure': 'cup',\n",
       "  'food': 'plain Greek yogurt',\n",
       "  'weight': 288.0,\n",
       "  'foodCategory': 'yogurt',\n",
       "  'foodId': 'food_bllzl82a5fkj4yanmzoztapdyryz',\n",
       "  'image': 'https://www.edamam.com/food-img/689/6891387401f579242e7303ce8ec00e18.jpg'},\n",
       " {'text': '2 teaspoons fresh lemon juice',\n",
       "  'quantity': 2.0,\n",
       "  'measure': 'teaspoon',\n",
       "  'food': 'lemon juice',\n",
       "  'weight': 10.166666667182332,\n",
       "  'foodCategory': '100% juice',\n",
       "  'foodId': 'food_bglm6vxahuauteb0n6ynfbg9eryu',\n",
       "  'image': 'https://www.edamam.com/food-img/e31/e310952d214e78a4cb8b73f30ceeaaf2.jpg'},\n",
       " {'text': '1/2 small shallot, finely chopped',\n",
       "  'quantity': 0.5,\n",
       "  'measure': '<unit>',\n",
       "  'food': 'shallot',\n",
       "  'weight': 20.0,\n",
       "  'foodCategory': 'vegetables',\n",
       "  'foodId': 'food_bu2ver7a5f52dfap8q9f0bn085qb',\n",
       "  'image': 'https://www.edamam.com/food-img/d23/d23e3be21df05e9e16c05eadb12341e7.jpeg'},\n",
       " {'text': '2 tablespoons coarsely chopped fresh tarragon',\n",
       "  'quantity': 2.0,\n",
       "  'measure': 'tablespoon',\n",
       "  'food': 'fresh tarragon',\n",
       "  'weight': 4.99999999991546,\n",
       "  'foodCategory': 'Condiments and sauces',\n",
       "  'foodId': 'food_bcae9pdaob9i69bo94oxramms336',\n",
       "  'image': 'https://www.edamam.com/food-img/22f/22f8945d157d8b759c30e6738639991b.jpg'}]"
      ]
     },
     "execution_count": 152,
     "metadata": {},
     "output_type": "execute_result"
    }
   ],
   "source": [
    "recipes['hits'][9][\"recipe\"]['ingredients']"
   ]
  },
  {
   "cell_type": "code",
   "execution_count": null,
   "metadata": {},
   "outputs": [],
   "source": []
  },
  {
   "cell_type": "code",
   "execution_count": 120,
   "metadata": {},
   "outputs": [],
   "source": [
    "selected_health_labels= ['Vegetarian']"
   ]
  },
  {
   "cell_type": "code",
   "execution_count": 107,
   "metadata": {},
   "outputs": [],
   "source": [
    "def filter_healthlabels(recipes, health_labels):\n",
    "    filtered_recipes = []\n",
    "    capitalized_health_labels=[]\n",
    "    for label in health_labels:\n",
    "        capitalized_health_labels.append(label.capitalize())\n",
    "    for hit in recipes['hits']:\n",
    "        recipe = hit['recipe']\n",
    "        if all(label in recipe['healthLabels'] for label in capitalized_health_labels):\n",
    "            filtered_recipes.append(recipe)\n",
    "    return filtered_recipes"
   ]
  },
  {
   "cell_type": "code",
   "execution_count": 121,
   "metadata": {},
   "outputs": [],
   "source": [
    "def filter_healthlabels_new(recipes, health_labels):\n",
    "    return [hit['recipe'] for hit in recipes['hits'] \n",
    "            if all(label.capitalize() in hit['recipe']['healthLabels'] for label in health_labels)]"
   ]
  },
  {
   "cell_type": "code",
   "execution_count": 122,
   "metadata": {},
   "outputs": [],
   "source": [
    "health_recipes = filter_healthlabels_new(recipes, selected_health_labels)"
   ]
  },
  {
   "cell_type": "code",
   "execution_count": 134,
   "metadata": {},
   "outputs": [
    {
     "data": {
      "text/plain": [
       "[{'text': '1 cup oats (certified gluten free)',\n",
       "  'quantity': 1.0,\n",
       "  'measure': 'cup',\n",
       "  'food': 'oats',\n",
       "  'weight': 156.0,\n",
       "  'foodCategory': 'grains',\n",
       "  'foodId': 'food_bbx4dfgbzjecp8bkewhz5b1lp5ky',\n",
       "  'image': 'https://www.edamam.com/food-img/c3a/c3a47df1c9be12cb3d9091a841d37680.jpg'},\n",
       " {'text': '1 cup brown rice flour',\n",
       "  'quantity': 1.0,\n",
       "  'measure': 'cup',\n",
       "  'food': 'brown rice flour',\n",
       "  'weight': 158.0,\n",
       "  'foodCategory': 'grains',\n",
       "  'foodId': 'food_aam36l8bllo33ra4hsrshbu7ssb8',\n",
       "  'image': 'https://www.edamam.com/food-img/815/815913308083b8fb58872ae975b30f49.jpg'},\n",
       " {'text': '1 1/2 teaspoon baking powder',\n",
       "  'quantity': 1.5,\n",
       "  'measure': 'teaspoon',\n",
       "  'food': 'baking powder',\n",
       "  'weight': 6.8999999999999995,\n",
       "  'foodCategory': 'condiments and sauces',\n",
       "  'foodId': 'food_bad4zycbt4w60dbut111vaub2g3e',\n",
       "  'image': 'https://www.edamam.com/food-img/a84/a8410ec57a2e62a1ad9955ac14d40af6.jpg'},\n",
       " {'text': '2 teaspoons cinnamon',\n",
       "  'quantity': 2.0,\n",
       "  'measure': 'teaspoon',\n",
       "  'food': 'cinnamon',\n",
       "  'weight': 5.2,\n",
       "  'foodCategory': 'Condiments and sauces',\n",
       "  'foodId': 'food_atjxtznauw5zabaixm24xa787onz',\n",
       "  'image': 'https://www.edamam.com/food-img/d4d/d4daa18b92c596a1c99c08537c38e65b.jpg'},\n",
       " {'text': '2 cups juiced carrot pulp',\n",
       "  'quantity': 2.0,\n",
       "  'measure': 'cup',\n",
       "  'food': 'carrot',\n",
       "  'weight': 244.0,\n",
       "  'foodCategory': 'vegetables',\n",
       "  'foodId': 'food_ai215e5b85pdh5ajd4aafa3w2zm8',\n",
       "  'image': 'https://www.edamam.com/food-img/121/121e33fce0bb9546ed7d060b6c114e29.jpg'},\n",
       " {'text': '1 banana, mashed',\n",
       "  'quantity': 1.0,\n",
       "  'measure': '<unit>',\n",
       "  'food': 'banana',\n",
       "  'weight': 115.7,\n",
       "  'foodCategory': 'fruit',\n",
       "  'foodId': 'food_bjsfxtcaidvmhaa3afrbna43q3hu',\n",
       "  'image': 'https://www.edamam.com/food-img/9f6/9f6181163a25c96022ee3fc66d9ebb11.jpg'},\n",
       " {'text': '1 egg (vegan egg replacer)',\n",
       "  'quantity': 1.0,\n",
       "  'measure': '<unit>',\n",
       "  'food': 'egg',\n",
       "  'weight': 43.0,\n",
       "  'foodCategory': 'Eggs',\n",
       "  'foodId': 'food_bhpradua77pk16aipcvzeayg732r',\n",
       "  'image': 'https://www.edamam.com/food-img/a7e/a7ec7c337cb47c6550b3b118e357f077.jpg'},\n",
       " {'text': '1/3 cup agave',\n",
       "  'quantity': 0.3333333333333333,\n",
       "  'measure': 'cup',\n",
       "  'food': 'agave',\n",
       "  'weight': 110.93333333333334,\n",
       "  'foodCategory': 'sugar syrups',\n",
       "  'foodId': 'food_bj8pkd1bgey1rlbp58zagbjhpfi0',\n",
       "  'image': 'https://www.edamam.com/food-img/3b5/3b5425ed8e35a486b4138cc8720ae9e4.jpg'}]"
      ]
     },
     "execution_count": 134,
     "metadata": {},
     "output_type": "execute_result"
    }
   ],
   "source": [
    "health_recipes[1]['ingredients']"
   ]
  },
  {
   "cell_type": "code",
   "execution_count": 139,
   "metadata": {},
   "outputs": [],
   "source": [
    "def filter_by_ingredient_count(recipes, min_ingredients, max_ingredients):\n",
    "    filtered_recipes = []\n",
    "\n",
    "    for recipe in filter_healthlabels_new(recipes, selected_health_labels):\n",
    "        ingredients = recipe['ingredients']\n",
    "        num_ingredients = len(ingredients)\n",
    "        \n",
    "        if min_ingredients <= num_ingredients <= max_ingredients:\n",
    "            filtered_recipes.append(recipe)\n",
    "\n",
    "    return filtered_recipes\n"
   ]
  }
 ],
 "metadata": {
  "kernelspec": {
   "display_name": "veggideas",
   "language": "python",
   "name": "python3"
  },
  "language_info": {
   "codemirror_mode": {
    "name": "ipython",
    "version": 3
   },
   "file_extension": ".py",
   "mimetype": "text/x-python",
   "name": "python",
   "nbconvert_exporter": "python",
   "pygments_lexer": "ipython3",
   "version": "3.10.6"
  },
  "orig_nbformat": 4
 },
 "nbformat": 4,
 "nbformat_minor": 2
}
