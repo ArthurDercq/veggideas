{
 "cells": [
  {
   "cell_type": "code",
   "execution_count": 115,
   "metadata": {},
   "outputs": [],
   "source": [
    "import requests\n",
    "import sqlite3\n",
    "import json\n",
    "import urllib\n",
    "from random import randint\n"
   ]
  },
  {
   "cell_type": "code",
   "execution_count": null,
   "metadata": {},
   "outputs": [],
   "source": []
  },
  {
   "cell_type": "code",
   "execution_count": 116,
   "metadata": {},
   "outputs": [],
   "source": [
    "IDS = {-1}\n",
    "APP_ID = \"785b538a\"\n",
    "API_KEY = \"01bde07232a776b52909d9876ae11db4\"\n",
    "VEGETABLE = \"carrot\"\n",
    "DIET = \"high-fiber\"\n",
    "CALORIES = \"100-800\"\n",
    "\n",
    "\n",
    "URL = f\"https://api.edamam.com/api/recipes/v2?type=public&q={VEGETABLE}&app_id={APP_ID}&app_key={API_KEY}&diet={DIET}&calories={CALORIES}&field=url&field=dietLabels&field=healthLabels&field=ingredients&field=calories&field=cuisineType&field=mealType\"\n",
    "\n"
   ]
  },
  {
   "cell_type": "code",
   "execution_count": 117,
   "metadata": {},
   "outputs": [],
   "source": [
    "def make_requests(url):\n",
    "    response = requests.get(url)\n",
    "    data = response.json()\n",
    "    return data\n",
    "\n",
    "\n",
    "    "
   ]
  },
  {
   "cell_type": "code",
   "execution_count": 118,
   "metadata": {},
   "outputs": [],
   "source": [
    "recipes = make_requests(URL)"
   ]
  },
  {
   "cell_type": "code",
   "execution_count": 130,
   "metadata": {},
   "outputs": [
    {
     "data": {
      "text/plain": [
       "[{'text': '1 tablespoon caraway seeds',\n",
       "  'quantity': 1.0,\n",
       "  'measure': 'tablespoon',\n",
       "  'food': 'caraway seeds',\n",
       "  'weight': 6.7,\n",
       "  'foodCategory': 'Condiments and sauces',\n",
       "  'foodId': 'food_ajud355b4ylptkamibaw8asro711',\n",
       "  'image': 'https://www.edamam.com/food-img/0fe/0fe42839f38dd9755609410f05d93c5d.jpg'},\n",
       " {'text': '1 tablespoon coriander seeds',\n",
       "  'quantity': 1.0,\n",
       "  'measure': 'tablespoon',\n",
       "  'food': 'coriander seeds',\n",
       "  'weight': 5.0,\n",
       "  'foodCategory': 'Condiments and sauces',\n",
       "  'foodId': 'food_afpcy6rb44nx6gbfff63ga2cqksw',\n",
       "  'image': 'https://www.edamam.com/food-img/a90/a901cee0b9028841d258f5d07b5924e7.jpg'},\n",
       " {'text': '1 tablespoon cumin seeds',\n",
       "  'quantity': 1.0,\n",
       "  'measure': 'tablespoon',\n",
       "  'food': 'cumin seeds',\n",
       "  'weight': 6.0,\n",
       "  'foodCategory': 'Condiments and sauces',\n",
       "  'foodId': 'food_a8jjbx4biqndasapojdb5by3e92e',\n",
       "  'image': 'https://www.edamam.com/food-img/07e/07e2a4eb77ce46591033846504817d35.jpg'},\n",
       " {'text': '6 tablespoons olive oil, divided, plus more for drizzling',\n",
       "  'quantity': 6.0,\n",
       "  'measure': 'tablespoon',\n",
       "  'food': 'olive oil',\n",
       "  'weight': 81.0,\n",
       "  'foodCategory': 'Oils',\n",
       "  'foodId': 'food_b1d1icuad3iktrbqby0hiagafaz7',\n",
       "  'image': 'https://www.edamam.com/food-img/4d6/4d651eaa8a353647746290c7a9b29d84.jpg'},\n",
       " {'text': '½ pound carrots, chopped',\n",
       "  'quantity': 0.5,\n",
       "  'measure': 'pound',\n",
       "  'food': 'carrots',\n",
       "  'weight': 226.796185,\n",
       "  'foodCategory': 'vegetables',\n",
       "  'foodId': 'food_ai215e5b85pdh5ajd4aafa3w2zm8',\n",
       "  'image': 'https://www.edamam.com/food-img/121/121e33fce0bb9546ed7d060b6c114e29.jpg'},\n",
       " {'text': 'kosher salt',\n",
       "  'quantity': 0.0,\n",
       "  'measure': None,\n",
       "  'food': 'kosher salt',\n",
       "  'weight': 7.915434191246907,\n",
       "  'foodCategory': 'Condiments and sauces',\n",
       "  'foodId': 'food_a1vgrj1bs8rd1majvmd9ubz8ttkg',\n",
       "  'image': 'https://www.edamam.com/food-img/694/6943ea510918c6025795e8dc6e6eaaeb.jpg'},\n",
       " {'text': 'freshly ground pepper',\n",
       "  'quantity': 0.0,\n",
       "  'measure': None,\n",
       "  'food': 'pepper',\n",
       "  'weight': 3.9577170956234533,\n",
       "  'foodCategory': 'Condiments and sauces',\n",
       "  'foodId': 'food_b6ywzluaaxv02wad7s1r9ag4py89',\n",
       "  'image': 'https://www.edamam.com/food-img/c6e/c6e5c3bd8d3bc15175d9766971a4d1b2.jpg'},\n",
       " {'text': '1 15-ounce can chickpeas, drained',\n",
       "  'quantity': 15.0,\n",
       "  'measure': 'ounce',\n",
       "  'food': 'can chickpeas',\n",
       "  'weight': 425.242846875,\n",
       "  'foodCategory': 'plant-based protein',\n",
       "  'foodId': 'food_a63lcoybzox4krbbrj8eba9g8cz5',\n",
       "  'image': 'https://www.edamam.com/food-img/603/603965a58e6a5d127a522ffb44289d24.jpg'},\n",
       " {'text': '2 garlic cloves, finely grated',\n",
       "  'quantity': 2.0,\n",
       "  'measure': 'clove',\n",
       "  'food': 'garlic',\n",
       "  'weight': 6.0,\n",
       "  'foodCategory': 'vegetables',\n",
       "  'foodId': 'food_avtcmx6bgjv1jvay6s6stan8dnyp',\n",
       "  'image': 'https://www.edamam.com/food-img/6ee/6ee142951f48aaf94f4312409f8d133d.jpg'},\n",
       " {'text': '½ cup carrot juice or water',\n",
       "  'quantity': 0.5,\n",
       "  'measure': 'cup',\n",
       "  'food': 'carrot juice',\n",
       "  'weight': 118.0,\n",
       "  'foodCategory': 'canned vegetables',\n",
       "  'foodId': 'food_abwe3lrbt7e353b7gmtn7b555zh3',\n",
       "  'image': 'https://www.edamam.com/food-img/2cf/2cf3fba5241e28ae562f4cb4c5420eb1.jpg'},\n",
       " {'text': '¼ cup natural smooth peanut butter',\n",
       "  'quantity': 0.25,\n",
       "  'measure': 'cup',\n",
       "  'food': 'peanut butter',\n",
       "  'weight': 64.5,\n",
       "  'foodCategory': 'plant-based protein',\n",
       "  'foodId': 'food_bz6b8fsbccyn3zaij72f7av8dl9m',\n",
       "  'image': 'https://www.edamam.com/food-img/d74/d740276ae1409472a8714b2cee88a310.jpg'},\n",
       " {'text': '2 tablespoons fresh lemon juice',\n",
       "  'quantity': 2.0,\n",
       "  'measure': 'tablespoon',\n",
       "  'food': 'lemon juice',\n",
       "  'weight': 30.4999999994844,\n",
       "  'foodCategory': '100% juice',\n",
       "  'foodId': 'food_bglm6vxahuauteb0n6ynfbg9eryu',\n",
       "  'image': 'https://www.edamam.com/food-img/e31/e310952d214e78a4cb8b73f30ceeaaf2.jpg'},\n",
       " {'text': '¼ cup unsalted, roasted peanuts',\n",
       "  'quantity': 0.25,\n",
       "  'measure': 'cup',\n",
       "  'food': 'peanuts',\n",
       "  'weight': 36.5,\n",
       "  'foodCategory': 'plant-based protein',\n",
       "  'foodId': 'food_aft8y4gab0fvs5bcgjac6boztho3',\n",
       "  'image': 'https://www.edamam.com/food-img/6f4/6f41e31c53bb58cc1b7331d0764963f7.jpg'},\n",
       " {'text': '1 tablespoon honey',\n",
       "  'quantity': 1.0,\n",
       "  'measure': 'tablespoon',\n",
       "  'food': 'honey',\n",
       "  'weight': 21.0,\n",
       "  'foodCategory': 'sugar syrups',\n",
       "  'foodId': 'food_b1cj2pmac27zngan87974b0a40hk',\n",
       "  'image': 'https://www.edamam.com/food-img/198/198c7b25c23b4235b4cc33818c7b335f.jpg'},\n",
       " {'text': '2 canned chipotle chiles in adobo, plus 2 tablespoons adobo sauce',\n",
       "  'quantity': 2.0,\n",
       "  'measure': '<unit>',\n",
       "  'food': 'chipotle chiles in adobo',\n",
       "  'weight': 146.0,\n",
       "  'foodCategory': 'canned vegetables',\n",
       "  'foodId': 'food_bumzpysb5k05cibmscqp2a0fwgpa',\n",
       "  'image': 'https://www.edamam.com/food-img/c34/c343c40fbfe50bd72bbb3890c83a4315.jpeg'},\n",
       " {'text': '2 canned chipotle chiles in adobo, plus 2 tablespoons adobo sauce',\n",
       "  'quantity': 2.0,\n",
       "  'measure': '<unit>',\n",
       "  'food': 'chipotle chiles in adobo',\n",
       "  'weight': 146.0,\n",
       "  'foodCategory': 'canned vegetables',\n",
       "  'foodId': 'food_bumzpysb5k05cibmscqp2a0fwgpa',\n",
       "  'image': 'https://www.edamam.com/food-img/c34/c343c40fbfe50bd72bbb3890c83a4315.jpeg'}]"
      ]
     },
     "execution_count": 130,
     "metadata": {},
     "output_type": "execute_result"
    }
   ],
   "source": [
    "recipes['hits'][9][\"recipe\"]['ingredients']"
   ]
  },
  {
   "cell_type": "code",
   "execution_count": null,
   "metadata": {},
   "outputs": [],
   "source": []
  },
  {
   "cell_type": "code",
   "execution_count": 120,
   "metadata": {},
   "outputs": [],
   "source": [
    "selected_health_labels= ['Vegetarian']"
   ]
  },
  {
   "cell_type": "code",
   "execution_count": 107,
   "metadata": {},
   "outputs": [],
   "source": [
    "def filter_healthlabels(recipes, health_labels):\n",
    "    filtered_recipes = []\n",
    "    capitalized_health_labels=[]\n",
    "    for label in health_labels:\n",
    "        capitalized_health_labels.append(label.capitalize())\n",
    "    for hit in recipes['hits']:\n",
    "        recipe = hit['recipe']\n",
    "        if all(label in recipe['healthLabels'] for label in capitalized_health_labels):\n",
    "            filtered_recipes.append(recipe)\n",
    "    return filtered_recipes"
   ]
  },
  {
   "cell_type": "code",
   "execution_count": 121,
   "metadata": {},
   "outputs": [],
   "source": [
    "def filter_healthlabels_new(recipes, health_labels):\n",
    "    return [hit['recipe'] for hit in recipes['hits'] \n",
    "            if all(label.capitalize() in hit['recipe']['healthLabels'] for label in health_labels)]"
   ]
  },
  {
   "cell_type": "code",
   "execution_count": 122,
   "metadata": {},
   "outputs": [],
   "source": [
    "health_recipes = filter_healthlabels_new(recipes, selected_health_labels)"
   ]
  },
  {
   "cell_type": "code",
   "execution_count": 134,
   "metadata": {},
   "outputs": [
    {
     "data": {
      "text/plain": [
       "[{'text': '1 cup oats (certified gluten free)',\n",
       "  'quantity': 1.0,\n",
       "  'measure': 'cup',\n",
       "  'food': 'oats',\n",
       "  'weight': 156.0,\n",
       "  'foodCategory': 'grains',\n",
       "  'foodId': 'food_bbx4dfgbzjecp8bkewhz5b1lp5ky',\n",
       "  'image': 'https://www.edamam.com/food-img/c3a/c3a47df1c9be12cb3d9091a841d37680.jpg'},\n",
       " {'text': '1 cup brown rice flour',\n",
       "  'quantity': 1.0,\n",
       "  'measure': 'cup',\n",
       "  'food': 'brown rice flour',\n",
       "  'weight': 158.0,\n",
       "  'foodCategory': 'grains',\n",
       "  'foodId': 'food_aam36l8bllo33ra4hsrshbu7ssb8',\n",
       "  'image': 'https://www.edamam.com/food-img/815/815913308083b8fb58872ae975b30f49.jpg'},\n",
       " {'text': '1 1/2 teaspoon baking powder',\n",
       "  'quantity': 1.5,\n",
       "  'measure': 'teaspoon',\n",
       "  'food': 'baking powder',\n",
       "  'weight': 6.8999999999999995,\n",
       "  'foodCategory': 'condiments and sauces',\n",
       "  'foodId': 'food_bad4zycbt4w60dbut111vaub2g3e',\n",
       "  'image': 'https://www.edamam.com/food-img/a84/a8410ec57a2e62a1ad9955ac14d40af6.jpg'},\n",
       " {'text': '2 teaspoons cinnamon',\n",
       "  'quantity': 2.0,\n",
       "  'measure': 'teaspoon',\n",
       "  'food': 'cinnamon',\n",
       "  'weight': 5.2,\n",
       "  'foodCategory': 'Condiments and sauces',\n",
       "  'foodId': 'food_atjxtznauw5zabaixm24xa787onz',\n",
       "  'image': 'https://www.edamam.com/food-img/d4d/d4daa18b92c596a1c99c08537c38e65b.jpg'},\n",
       " {'text': '2 cups juiced carrot pulp',\n",
       "  'quantity': 2.0,\n",
       "  'measure': 'cup',\n",
       "  'food': 'carrot',\n",
       "  'weight': 244.0,\n",
       "  'foodCategory': 'vegetables',\n",
       "  'foodId': 'food_ai215e5b85pdh5ajd4aafa3w2zm8',\n",
       "  'image': 'https://www.edamam.com/food-img/121/121e33fce0bb9546ed7d060b6c114e29.jpg'},\n",
       " {'text': '1 banana, mashed',\n",
       "  'quantity': 1.0,\n",
       "  'measure': '<unit>',\n",
       "  'food': 'banana',\n",
       "  'weight': 115.7,\n",
       "  'foodCategory': 'fruit',\n",
       "  'foodId': 'food_bjsfxtcaidvmhaa3afrbna43q3hu',\n",
       "  'image': 'https://www.edamam.com/food-img/9f6/9f6181163a25c96022ee3fc66d9ebb11.jpg'},\n",
       " {'text': '1 egg (vegan egg replacer)',\n",
       "  'quantity': 1.0,\n",
       "  'measure': '<unit>',\n",
       "  'food': 'egg',\n",
       "  'weight': 43.0,\n",
       "  'foodCategory': 'Eggs',\n",
       "  'foodId': 'food_bhpradua77pk16aipcvzeayg732r',\n",
       "  'image': 'https://www.edamam.com/food-img/a7e/a7ec7c337cb47c6550b3b118e357f077.jpg'},\n",
       " {'text': '1/3 cup agave',\n",
       "  'quantity': 0.3333333333333333,\n",
       "  'measure': 'cup',\n",
       "  'food': 'agave',\n",
       "  'weight': 110.93333333333334,\n",
       "  'foodCategory': 'sugar syrups',\n",
       "  'foodId': 'food_bj8pkd1bgey1rlbp58zagbjhpfi0',\n",
       "  'image': 'https://www.edamam.com/food-img/3b5/3b5425ed8e35a486b4138cc8720ae9e4.jpg'}]"
      ]
     },
     "execution_count": 134,
     "metadata": {},
     "output_type": "execute_result"
    }
   ],
   "source": [
    "health_recipes[1]['ingredients']"
   ]
  },
  {
   "cell_type": "code",
   "execution_count": 135,
   "metadata": {},
   "outputs": [],
   "source": [
    "# ONLY input this AFTER the def filter_healthlabels (strucure is different)\n",
    "def filter_by_ingredient_count(recipes, min_ingredients, max_ingredients):\n",
    "    filtered_recipes = []\n",
    "\n",
    "    for recipe in recipes:\n",
    "        ingredients = recipe['ingredients']\n",
    "        num_ingredients = len(ingredients)\n",
    "        \n",
    "        if min_ingredients <= num_ingredients <= max_ingredients:\n",
    "            filtered_recipes.append(recipe)\n",
    "\n",
    "    return filtered_recipes\n"
   ]
  },
  {
   "cell_type": "code",
   "execution_count": 137,
   "metadata": {},
   "outputs": [],
   "source": [
    "recipes_after_min_max = filter_by_ingredient_count(health_recipes, 5, 10)"
   ]
  },
  {
   "cell_type": "code",
   "execution_count": 138,
   "metadata": {},
   "outputs": [
    {
     "data": {
      "text/plain": [
       "13"
      ]
     },
     "execution_count": 138,
     "metadata": {},
     "output_type": "execute_result"
    }
   ],
   "source": [
    "len(recipes_after_min_max)"
   ]
  }
 ],
 "metadata": {
  "kernelspec": {
   "display_name": "veggideas",
   "language": "python",
   "name": "python3"
  },
  "language_info": {
   "codemirror_mode": {
    "name": "ipython",
    "version": 3
   },
   "file_extension": ".py",
   "mimetype": "text/x-python",
   "name": "python",
   "nbconvert_exporter": "python",
   "pygments_lexer": "ipython3",
   "version": "3.10.6"
  },
  "orig_nbformat": 4
 },
 "nbformat": 4,
 "nbformat_minor": 2
}
